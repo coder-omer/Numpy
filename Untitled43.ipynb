{
  "nbformat": 4,
  "nbformat_minor": 0,
  "metadata": {
    "colab": {
      "name": "Untitled43.ipynb",
      "provenance": [],
      "authorship_tag": "ABX9TyNH6t4DY2WGL+zxtnqeL5mb",
      "include_colab_link": true
    },
    "kernelspec": {
      "name": "python3",
      "display_name": "Python 3"
    },
    "language_info": {
      "name": "python"
    }
  },
  "cells": [
    {
      "cell_type": "markdown",
      "metadata": {
        "id": "view-in-github",
        "colab_type": "text"
      },
      "source": [
        "<a href=\"https://colab.research.google.com/github/coder-omer/Numpy/blob/main/Untitled43.ipynb\" target=\"_parent\"><img src=\"https://colab.research.google.com/assets/colab-badge.svg\" alt=\"Open In Colab\"/></a>"
      ]
    },
    {
      "cell_type": "code",
      "execution_count": null,
      "metadata": {
        "id": "ZZANs_6-aIL5"
      },
      "outputs": [],
      "source": [
        "import numpy as np\n",
        "import pandas as pd\n",
        "from scipy import stats\n",
        "import matplotlib.pyplot as plt\n",
        "import seaborn as sns"
      ]
    },
    {
      "cell_type": "code",
      "source": [
        "happiness_score = [2.69,5.00,5.04,5.79,5.06,7.18,7.40,5.17,4.50,5.23,6.89,5.82,5.92,5.89,3.46,6.19,5.10,4.93,3.78,5.12,5.25,\n",
        "                   7.18, 4.49,6.44,5.13,5.98,3.97,5.49,7.14,5.54,7.03,7.65,5.43,6.13,4.01,6.28,6.09,4.38,7.86,6.67,4.78,4.92,\n",
        "                   4.66,7.12,5.41,6.63,5.25, 3.61,5.91,3.82,5.34,4.28,6.96,6.93,6.52,5.27,5.79,4.64,6.01,4.66,5.30,4.86,5.90,\n",
        "                   5.17,4.13,6.31,7.24,5.24,4.07,3.33,5.34,4.42,4.31,5.88,6.55,5.68,5.46,5.65,4.90,4.65,4.41,4.83,4.91,7.46,\n",
        "                   7.37,5.82,5.16,5.25,7.44,5.47,6.28,5.68,5.87,5.92,6.15,5.51,3.56,6.36,4.77,5.94,4.31,6.24,6.25,4.88,\n",
        "                   5.84,6.51,4.40,7.37,7.51,3.45,6.01,4.02,4.74,5.19,4.62,4.32,4.66,6.60,7.23,6.88,6.37,6.21,5.01,5.30,\n",
        "                   4.04,3.62]\n"
      ],
      "metadata": {
        "id": "QJDqWhlmakAD"
      },
      "execution_count": null,
      "outputs": []
    },
    {
      "cell_type": "code",
      "source": [
        "life_exp = [52.60,68.70,65.90,68.80,66.90,73.60,73.00,65.50,64.30,66.10,72.00,54.30,63.60,67.80,58.90,66.40,66.80,\n",
        "            53.90,53.40,61.60,52.70,73.60,48.20,69.90,69.30,67.70,57.20,57.90,71.30,70.20,70.30,72.40,65.80, 68.50,\n",
        "            61.70,66.10,68.60,58.50,71.90,73.80,59.70,55.00,64.50,72.20,72.40,64.80,54.40,55.70,67.20,60.10,62.10,66.00,\n",
        "            72.30,73.30,73.60,49.50,75.00,66.80,64.60,60.10,64.10,58.70,66.80,67.10,56.10, 67.30,72.60,67.50,59.10,57.60,\n",
        "            67.00,51.70,57.00,66.40,68.30,65.00,62.30,68.50,65.90,54.20,59.00,56.50,63.50,72.30,73.20,67.50,53.50,49.70,\n",
        "            73.20,58.50,69.60,68.10,61.90,72.40,67.20,64.30,61.10, 66.30,59.60,68.20,50.80,68.90,71.10,56.50,73.60,\n",
        "            74.40,67.20,72.60,74.10,57.50,67.20,54.70,66.90,66.80,62.20,55.70,64.60,67.10,72.30,68.30,69.00,65.10,66.50,\n",
        "            67.90,55.30,55.60]"
      ],
      "metadata": {
        "id": "jLdiLxQcakFc"
      },
      "execution_count": null,
      "outputs": []
    },
    {
      "cell_type": "code",
      "source": [
        "type(happiness_score)"
      ],
      "metadata": {
        "colab": {
          "base_uri": "https://localhost:8080/"
        },
        "id": "Ay5AGEI8akIp",
        "outputId": "ab1d2c3f-660e-42ed-e762-8e87c77b557a"
      },
      "execution_count": null,
      "outputs": [
        {
          "output_type": "execute_result",
          "data": {
            "text/plain": [
              "list"
            ]
          },
          "metadata": {},
          "execution_count": 4
        }
      ]
    },
    {
      "cell_type": "code",
      "source": [
        "type(happiness_score)"
      ],
      "metadata": {
        "colab": {
          "base_uri": "https://localhost:8080/"
        },
        "id": "HBFOvZ4WakPB",
        "outputId": "d812f827-9dd7-4b3f-ef28-757a0a5778da"
      },
      "execution_count": null,
      "outputs": [
        {
          "output_type": "execute_result",
          "data": {
            "text/plain": [
              "list"
            ]
          },
          "metadata": {},
          "execution_count": 5
        }
      ]
    },
    {
      "cell_type": "code",
      "source": [
        "np.mean(life_exp)"
      ],
      "metadata": {
        "colab": {
          "base_uri": "https://localhost:8080/"
        },
        "id": "Hn59C1zfbQbD",
        "outputId": "d56e6680-496a-4a45-ce45-e5eb886b289c"
      },
      "execution_count": null,
      "outputs": [
        {
          "output_type": "execute_result",
          "data": {
            "text/plain": [
              "64.52142857142859"
            ]
          },
          "metadata": {},
          "execution_count": 6
        }
      ]
    },
    {
      "cell_type": "code",
      "source": [
        "np.median(life_exp)"
      ],
      "metadata": {
        "colab": {
          "base_uri": "https://localhost:8080/"
        },
        "id": "Yd3FZ_owbQX-",
        "outputId": "ad1d975e-ba65-4bff-b5c8-9173be66ff88"
      },
      "execution_count": null,
      "outputs": [
        {
          "output_type": "execute_result",
          "data": {
            "text/plain": [
              "66.35"
            ]
          },
          "metadata": {},
          "execution_count": 7
        }
      ]
    },
    {
      "cell_type": "code",
      "source": [
        "np.mean(happiness_score)"
      ],
      "metadata": {
        "colab": {
          "base_uri": "https://localhost:8080/"
        },
        "id": "LKVrwm9TbQR3",
        "outputId": "44f52bcf-cb44-47f3-abe4-699b1ae339a7"
      },
      "execution_count": null,
      "outputs": [
        {
          "output_type": "execute_result",
          "data": {
            "text/plain": [
              "5.499523809523809"
            ]
          },
          "metadata": {},
          "execution_count": 8
        }
      ]
    },
    {
      "cell_type": "code",
      "source": [
        "np.median(happiness_score)"
      ],
      "metadata": {
        "colab": {
          "base_uri": "https://localhost:8080/"
        },
        "id": "-AwXapsbbQPC",
        "outputId": "b0e25d9e-4eaa-4044-81f1-b66160a4beaf"
      },
      "execution_count": null,
      "outputs": [
        {
          "output_type": "execute_result",
          "data": {
            "text/plain": [
              "5.42"
            ]
          },
          "metadata": {},
          "execution_count": 9
        }
      ]
    },
    {
      "cell_type": "code",
      "source": [
        "np.std(life_exp)"
      ],
      "metadata": {
        "colab": {
          "base_uri": "https://localhost:8080/"
        },
        "id": "zMNLcuicbQL1",
        "outputId": "56b447b0-f39e-41b2-8727-878945bc752b"
      },
      "execution_count": null,
      "outputs": [
        {
          "output_type": "execute_result",
          "data": {
            "text/plain": [
              "6.6504279268312745"
            ]
          },
          "metadata": {},
          "execution_count": 10
        }
      ]
    },
    {
      "cell_type": "code",
      "source": [
        "np.var(happiness_score)"
      ],
      "metadata": {
        "colab": {
          "base_uri": "https://localhost:8080/"
        },
        "id": "9kZ4qbUMcJ4o",
        "outputId": "bcd283a5-a862-4758-bf66-a2eea6bb9a1a"
      },
      "execution_count": null,
      "outputs": [
        {
          "output_type": "execute_result",
          "data": {
            "text/plain": [
              "1.196866439909297"
            ]
          },
          "metadata": {},
          "execution_count": 11
        }
      ]
    },
    {
      "cell_type": "code",
      "source": [
        "np.std(happiness_score)"
      ],
      "metadata": {
        "colab": {
          "base_uri": "https://localhost:8080/"
        },
        "id": "T7VIKD7ocJs7",
        "outputId": "b2f9ae93-65b6-48e4-a0fb-08497655d564"
      },
      "execution_count": null,
      "outputs": [
        {
          "output_type": "execute_result",
          "data": {
            "text/plain": [
              "1.0940139121187158"
            ]
          },
          "metadata": {},
          "execution_count": 13
        }
      ]
    },
    {
      "cell_type": "code",
      "source": [
        "q1 = np.percentile(life_exp, 25)\n",
        "q1"
      ],
      "metadata": {
        "colab": {
          "base_uri": "https://localhost:8080/"
        },
        "id": "7Bkx3jYDcJnZ",
        "outputId": "ccaeff7c-d8f1-43d8-c928-d1240286160b"
      },
      "execution_count": null,
      "outputs": [
        {
          "output_type": "execute_result",
          "data": {
            "text/plain": [
              "59.025"
            ]
          },
          "metadata": {},
          "execution_count": 15
        }
      ]
    },
    {
      "cell_type": "code",
      "source": [
        "q3 = np.percentile(life_exp, 75)\n",
        "q3"
      ],
      "metadata": {
        "colab": {
          "base_uri": "https://localhost:8080/"
        },
        "id": "oiT61fBecJkn",
        "outputId": "c4fb0503-7255-4338-e218-d66268446498"
      },
      "execution_count": null,
      "outputs": [
        {
          "output_type": "execute_result",
          "data": {
            "text/plain": [
              "68.875"
            ]
          },
          "metadata": {},
          "execution_count": 16
        }
      ]
    },
    {
      "cell_type": "code",
      "source": [
        "stats.iqr(life_exp)"
      ],
      "metadata": {
        "colab": {
          "base_uri": "https://localhost:8080/"
        },
        "id": "QLP_7xNjcJgp",
        "outputId": "5e38aa76-350e-4360-d034-0584b126fe4c"
      },
      "execution_count": null,
      "outputs": [
        {
          "output_type": "execute_result",
          "data": {
            "text/plain": [
              "9.850000000000001"
            ]
          },
          "metadata": {},
          "execution_count": 17
        }
      ]
    },
    {
      "cell_type": "code",
      "source": [
        "np.max(life_exp)"
      ],
      "metadata": {
        "colab": {
          "base_uri": "https://localhost:8080/"
        },
        "id": "HM3P-aDvbQIc",
        "outputId": "6b22c263-b925-41d1-e3a5-e3775a9f5161"
      },
      "execution_count": null,
      "outputs": [
        {
          "output_type": "execute_result",
          "data": {
            "text/plain": [
              "75.0"
            ]
          },
          "metadata": {},
          "execution_count": 18
        }
      ]
    },
    {
      "cell_type": "code",
      "source": [
        "stats.skew(life_exp)"
      ],
      "metadata": {
        "colab": {
          "base_uri": "https://localhost:8080/"
        },
        "id": "ilzZHIo6eyv3",
        "outputId": "304a8f85-b010-4b5f-be55-a495f2ee0379"
      },
      "execution_count": null,
      "outputs": [
        {
          "output_type": "execute_result",
          "data": {
            "text/plain": [
              "-0.507998161416463"
            ]
          },
          "metadata": {},
          "execution_count": 19
        }
      ]
    },
    {
      "cell_type": "code",
      "source": [
        "stats.kurtosis(life_exp)"
      ],
      "metadata": {
        "colab": {
          "base_uri": "https://localhost:8080/"
        },
        "id": "KMYWY561eysk",
        "outputId": "6619b92f-64f1-459e-e234-531d72bf09f3"
      },
      "execution_count": null,
      "outputs": [
        {
          "output_type": "execute_result",
          "data": {
            "text/plain": [
              "-0.7040394620922208"
            ]
          },
          "metadata": {},
          "execution_count": 20
        }
      ]
    },
    {
      "cell_type": "code",
      "source": [
        "plt.hist(life_exp)"
      ],
      "metadata": {
        "colab": {
          "base_uri": "https://localhost:8080/",
          "height": 334
        },
        "id": "CU9VEqLGeygS",
        "outputId": "2366617b-7b38-4628-8768-106e78de9fc8"
      },
      "execution_count": null,
      "outputs": [
        {
          "output_type": "execute_result",
          "data": {
            "text/plain": [
              "(array([ 4.,  5., 11., 11.,  7.,  9., 25., 26., 11., 17.]),\n",
              " array([48.2 , 50.88, 53.56, 56.24, 58.92, 61.6 , 64.28, 66.96, 69.64,\n",
              "        72.32, 75.  ]),\n",
              " <a list of 10 Patch objects>)"
            ]
          },
          "metadata": {},
          "execution_count": 21
        },
        {
          "output_type": "display_data",
          "data": {
            "image/png": "[encoded data removed]",
            "text/plain": [
              "<Figure size 432x288 with 1 Axes>"
            ]
          },
          "metadata": {
            "needs_background": "light"
          }
        }
      ]
    },
    {
      "cell_type": "code",
      "source": [
        "sns.displot(life_exp,kde = True, kind = 'hist')"
      ],
      "metadata": {
        "colab": {
          "base_uri": "https://localhost:8080/",
          "height": 386
        },
        "id": "E_YHH1vgeydZ",
        "outputId": "15085532-121e-4943-f4b9-3404e53c5531"
      },
      "execution_count": null,
      "outputs": [
        {
          "output_type": "execute_result",
          "data": {
            "text/plain": [
              "<seaborn.axisgrid.FacetGrid at 0x7fbd74866950>"
            ]
          },
          "metadata": {},
          "execution_count": 22
        },
        {
          "output_type": "display_data",
          "data": {
            "image/png": "[encoded data removed]",
            "text/plain": [
              "<Figure size 360x360 with 1 Axes>"
            ]
          },
          "metadata": {
            "needs_background": "light"
          }
        }
      ]
    },
    {
      "cell_type": "code",
      "source": [
        "sns.scatterplot(life_exp, happiness_score)"
      ],
      "metadata": {
        "colab": {
          "base_uri": "https://localhost:8080/",
          "height": 337
        },
        "id": "WV-fpymReyZz",
        "outputId": "9d945d51-82f9-4876-c83f-40d42303389d"
      },
      "execution_count": null,
      "outputs": [
        {
          "output_type": "stream",
          "name": "stderr",
          "text": [
            "/usr/local/lib/python3.7/dist-packages/seaborn/_decorators.py:43: FutureWarning: Pass the following variables as keyword args: x, y. From version 0.12, the only valid positional argument will be `data`, and passing other arguments without an explicit keyword will result in an error or misinterpretation.\n",
            "  FutureWarning\n"
          ]
        },
        {
          "output_type": "execute_result",
          "data": {
            "text/plain": [
              "<matplotlib.axes._subplots.AxesSubplot at 0x7fbd68e70090>"
            ]
          },
          "metadata": {},
          "execution_count": 23
        },
        {
          "output_type": "display_data",
          "data": {
            "image/png": "[encoded data removed]",
            "text/plain": [
              "<Figure size 432x288 with 1 Axes>"
            ]
          },
          "metadata": {
            "needs_background": "light"
          }
        }
      ]
    },
    {
      "cell_type": "code",
      "source": [
        "r, p =stats.pearsonr(happiness_score, life_exp)\n",
        "r"
      ],
      "metadata": {
        "colab": {
          "base_uri": "https://localhost:8080/"
        },
        "id": "-EHAVbnih7UD",
        "outputId": "a539070f-0582-4fdf-ea5c-c66e6242baf1"
      },
      "execution_count": null,
      "outputs": [
        {
          "output_type": "execute_result",
          "data": {
            "text/plain": [
              "0.7406268830335517"
            ]
          },
          "metadata": {},
          "execution_count": 24
        }
      ]
    },
    {
      "cell_type": "code",
      "source": [
        "np.corrcoef(happiness_score, life_exp)"
      ],
      "metadata": {
        "colab": {
          "base_uri": "https://localhost:8080/"
        },
        "id": "jtcT8nLhh7fL",
        "outputId": "f59f25c5-d9d8-4005-caae-87952430f000"
      },
      "execution_count": null,
      "outputs": [
        {
          "output_type": "execute_result",
          "data": {
            "text/plain": [
              "array([[1.        , 0.74062688],\n",
              "       [0.74062688, 1.        ]])"
            ]
          },
          "metadata": {},
          "execution_count": 25
        }
      ]
    },
    {
      "cell_type": "code",
      "source": [
        "x = np.array(happiness_score)\n",
        "y = np.array(life_exp)"
      ],
      "metadata": {
        "id": "M3RaNpuih7iN"
      },
      "execution_count": null,
      "outputs": []
    },
    {
      "cell_type": "code",
      "source": [
        "x"
      ],
      "metadata": {
        "colab": {
          "base_uri": "https://localhost:8080/"
        },
        "id": "i3MPfHLReyW1",
        "outputId": "342dbee8-d9a2-43cf-ae39-63a512b1b6ad"
      },
      "execution_count": null,
      "outputs": [
        {
          "output_type": "execute_result",
          "data": {
            "text/plain": [
              "array([2.69, 5.  , 5.04, 5.79, 5.06, 7.18, 7.4 , 5.17, 4.5 , 5.23, 6.89,\n",
              "       5.82, 5.92, 5.89, 3.46, 6.19, 5.1 , 4.93, 3.78, 5.12, 5.25, 7.18,\n",
              "       4.49, 6.44, 5.13, 5.98, 3.97, 5.49, 7.14, 5.54, 7.03, 7.65, 5.43,\n",
              "       6.13, 4.01, 6.28, 6.09, 4.38, 7.86, 6.67, 4.78, 4.92, 4.66, 7.12,\n",
              "       5.41, 6.63, 5.25, 3.61, 5.91, 3.82, 5.34, 4.28, 6.96, 6.93, 6.52,\n",
              "       5.27, 5.79, 4.64, 6.01, 4.66, 5.3 , 4.86, 5.9 , 5.17, 4.13, 6.31,\n",
              "       7.24, 5.24, 4.07, 3.33, 5.34, 4.42, 4.31, 5.88, 6.55, 5.68, 5.46,\n",
              "       5.65, 4.9 , 4.65, 4.41, 4.83, 4.91, 7.46, 7.37, 5.82, 5.16, 5.25,\n",
              "       7.44, 5.47, 6.28, 5.68, 5.87, 5.92, 6.15, 5.51, 3.56, 6.36, 4.77,\n",
              "       5.94, 4.31, 6.24, 6.25, 4.88, 5.84, 6.51, 4.4 , 7.37, 7.51, 3.45,\n",
              "       6.01, 4.02, 4.74, 5.19, 4.62, 4.32, 4.66, 6.6 , 7.23, 6.88, 6.37,\n",
              "       6.21, 5.01, 5.3 , 4.04, 3.62])"
            ]
          },
          "metadata": {},
          "execution_count": 29
        }
      ]
    },
    {
      "cell_type": "code",
      "source": [
        "y"
      ],
      "metadata": {
        "colab": {
          "base_uri": "https://localhost:8080/"
        },
        "id": "RsbG0cVEid-5",
        "outputId": "3d062ebc-12e8-4453-c43f-aac5914e5048"
      },
      "execution_count": null,
      "outputs": [
        {
          "output_type": "execute_result",
          "data": {
            "text/plain": [
              "array([52.6, 68.7, 65.9, 68.8, 66.9, 73.6, 73. , 65.5, 64.3, 66.1, 72. ,\n",
              "       54.3, 63.6, 67.8, 58.9, 66.4, 66.8, 53.9, 53.4, 61.6, 52.7, 73.6,\n",
              "       48.2, 69.9, 69.3, 67.7, 57.2, 57.9, 71.3, 70.2, 70.3, 72.4, 65.8,\n",
              "       68.5, 61.7, 66.1, 68.6, 58.5, 71.9, 73.8, 59.7, 55. , 64.5, 72.2,\n",
              "       72.4, 64.8, 54.4, 55.7, 67.2, 60.1, 62.1, 66. , 72.3, 73.3, 73.6,\n",
              "       49.5, 75. , 66.8, 64.6, 60.1, 64.1, 58.7, 66.8, 67.1, 56.1, 67.3,\n",
              "       72.6, 67.5, 59.1, 57.6, 67. , 51.7, 57. , 66.4, 68.3, 65. , 62.3,\n",
              "       68.5, 65.9, 54.2, 59. , 56.5, 63.5, 72.3, 73.2, 67.5, 53.5, 49.7,\n",
              "       73.2, 58.5, 69.6, 68.1, 61.9, 72.4, 67.2, 64.3, 61.1, 66.3, 59.6,\n",
              "       68.2, 50.8, 68.9, 71.1, 56.5, 73.6, 74.4, 67.2, 72.6, 74.1, 57.5,\n",
              "       67.2, 54.7, 66.9, 66.8, 62.2, 55.7, 64.6, 67.1, 72.3, 68.3, 69. ,\n",
              "       65.1, 66.5, 67.9, 55.3, 55.6])"
            ]
          },
          "metadata": {},
          "execution_count": 30
        }
      ]
    },
    {
      "cell_type": "code",
      "source": [
        ""
      ],
      "metadata": {
        "id": "IHdyG9y7ieUI"
      },
      "execution_count": null,
      "outputs": []
    }
  ]
}