{
  "cells": [
    {
      "cell_type": "markdown",
      "metadata": {
        "id": "view-in-github",
        "colab_type": "text"
      },
      "source": [
        "<a href=\"https://colab.research.google.com/github/coder-omer/Numpy/blob/main/06_Self_Study_NumPy_Exercise_Student.ipynb\" target=\"_parent\"><img src=\"https://colab.research.google.com/assets/colab-badge.svg\" alt=\"Open In Colab\"/></a>"
      ]
    },
    {
      "cell_type": "markdown",
      "metadata": {
        "id": "uHEqn_zOKVn6"
      },
      "source": [
        "# NumPy Çalışma"
      ]
    },
    {
      "cell_type": "markdown",
      "metadata": {
        "id": "N98wGkE4KVoB"
      },
      "source": [
        "### NumPy Array'i Oluşturmak"
      ]
    },
    {
      "cell_type": "code",
      "execution_count": null,
      "metadata": {
        "id": "ChpfpinaKVoC"
      },
      "outputs": [],
      "source": [
        "import numpy as np"
      ]
    },
    {
      "cell_type": "code",
      "execution_count": null,
      "metadata": {
        "id": "iPJeytTXKVoE",
        "outputId": "9f9678a0-7579-4954-ecda-3194e4b82364"
      },
      "outputs": [
        {
          "data": {
            "text/plain": [
              "'1.19.5'"
            ]
          },
          "execution_count": 25,
          "metadata": {},
          "output_type": "execute_result"
        }
      ],
      "source": [
        "np.__version__"
      ]
    },
    {
      "cell_type": "code",
      "execution_count": null,
      "metadata": {
        "id": "SEEBLcgjKVoG"
      },
      "outputs": [],
      "source": [
        "# code here"
      ]
    },
    {
      "cell_type": "code",
      "execution_count": null,
      "metadata": {
        "id": "MnUIgiMMKVoG",
        "outputId": "b2014741-c8be-456b-d8bb-461600a3aab5"
      },
      "outputs": [
        {
          "data": {
            "text/plain": [
              "array([1, 2, 3, 4, 5])"
            ]
          },
          "execution_count": 127,
          "metadata": {},
          "output_type": "execute_result"
        }
      ],
      "source": [
        ""
      ]
    },
    {
      "cell_type": "code",
      "execution_count": null,
      "metadata": {
        "id": "Ni6OlMZjKVoG",
        "outputId": "f87f9692-76b4-481c-d141-3d893618fc70"
      },
      "outputs": [
        {
          "data": {
            "text/plain": [
              "numpy.ndarray"
            ]
          },
          "execution_count": 16,
          "metadata": {},
          "output_type": "execute_result"
        }
      ],
      "source": [
        "a = np.array([1,2,3,4,5])\n",
        "type(a)"
      ]
    },
    {
      "cell_type": "code",
      "execution_count": null,
      "metadata": {
        "id": "CVPy9hvdKVoH",
        "outputId": "122d5892-9a93-4a0f-aeb4-47d3e0e8a18e"
      },
      "outputs": [
        {
          "data": {
            "text/plain": [
              "array([ 3,  4,  2, 13])"
            ]
          },
          "execution_count": 130,
          "metadata": {},
          "output_type": "execute_result"
        }
      ],
      "source": [
        "np.array([3.14, 4, 2, 13], dtype = \"int\")"
      ]
    },
    {
      "cell_type": "code",
      "execution_count": null,
      "metadata": {
        "id": "clX58MzUKVoI",
        "outputId": "914d0f41-92be-4044-abb5-3a7695670483"
      },
      "outputs": [
        {
          "data": {
            "text/plain": [
              "array([ 3.14,  4.  ,  2.  , 13.  ])"
            ]
          },
          "execution_count": 17,
          "metadata": {},
          "output_type": "execute_result"
        }
      ],
      "source": [
        "np.array([3.14, 4, 2, 13], dtype = \"float\")"
      ]
    },
    {
      "cell_type": "code",
      "execution_count": null,
      "metadata": {
        "id": "i-p9xu6YKVoI"
      },
      "outputs": [],
      "source": [
        "# sifirdan array olusturma (np.zeros)"
      ]
    },
    {
      "cell_type": "code",
      "execution_count": null,
      "metadata": {
        "id": "FPW1WF0vKVoI"
      },
      "outputs": [],
      "source": [
        "# code here"
      ]
    },
    {
      "cell_type": "code",
      "execution_count": null,
      "metadata": {
        "id": "qAHElm62KVoJ",
        "outputId": "c0146eb8-4374-4e39-e766-0e6f149db547"
      },
      "outputs": [
        {
          "data": {
            "text/plain": [
              "array([0, 0, 0, 0, 0, 0, 0, 0, 0, 0])"
            ]
          },
          "execution_count": 20,
          "metadata": {},
          "output_type": "execute_result"
        }
      ],
      "source": [
        ""
      ]
    },
    {
      "cell_type": "code",
      "execution_count": null,
      "metadata": {
        "id": "8MTBjNJEKVoJ"
      },
      "outputs": [],
      "source": [
        "# code here"
      ]
    },
    {
      "cell_type": "code",
      "execution_count": null,
      "metadata": {
        "id": "TOSmaS2jKVoJ",
        "outputId": "7be9015c-006b-4330-fabb-5fd32a494a45"
      },
      "outputs": [
        {
          "data": {
            "text/plain": [
              "array([0., 0., 0., 0., 0., 0., 0., 0., 0., 0.])"
            ]
          },
          "execution_count": 21,
          "metadata": {},
          "output_type": "execute_result"
        }
      ],
      "source": [
        ""
      ]
    },
    {
      "cell_type": "code",
      "execution_count": null,
      "metadata": {
        "id": "Te8pgzLFKVoK"
      },
      "outputs": [],
      "source": [
        "# birlerden array olusturma (np.ones)"
      ]
    },
    {
      "cell_type": "code",
      "execution_count": null,
      "metadata": {
        "id": "AP2v88TZKVoK"
      },
      "outputs": [],
      "source": [
        "# code here"
      ]
    },
    {
      "cell_type": "code",
      "execution_count": null,
      "metadata": {
        "id": "3iOREv5TKVoK",
        "outputId": "58674cf1-95de-47f3-dd6a-e1c1ae579ba7"
      },
      "outputs": [
        {
          "data": {
            "text/plain": [
              "array([[1, 1, 1, 1, 1],\n",
              "       [1, 1, 1, 1, 1],\n",
              "       [1, 1, 1, 1, 1]])"
            ]
          },
          "execution_count": 133,
          "metadata": {},
          "output_type": "execute_result"
        }
      ],
      "source": [
        ""
      ]
    },
    {
      "cell_type": "code",
      "execution_count": null,
      "metadata": {
        "id": "YKe-VpoQKVoL"
      },
      "outputs": [],
      "source": [
        "# code here"
      ]
    },
    {
      "cell_type": "code",
      "execution_count": null,
      "metadata": {
        "id": "AQetoiUYKVoL",
        "outputId": "1f2a0f2f-461c-4c6b-b8fa-4e24a032de64"
      },
      "outputs": [
        {
          "data": {
            "text/plain": [
              "array([1., 1., 1., 1., 1., 1., 1., 1., 1., 1.])"
            ]
          },
          "execution_count": 23,
          "metadata": {},
          "output_type": "execute_result"
        }
      ],
      "source": [
        ""
      ]
    },
    {
      "cell_type": "code",
      "execution_count": null,
      "metadata": {
        "id": "dfy_C23nKVoL"
      },
      "outputs": [],
      "source": [
        "# belirlenen değerler ile doldurma (np.full)"
      ]
    },
    {
      "cell_type": "code",
      "execution_count": null,
      "metadata": {
        "id": "D4iP6JHYKVoM"
      },
      "outputs": [],
      "source": [
        "# code here"
      ]
    },
    {
      "cell_type": "code",
      "execution_count": null,
      "metadata": {
        "id": "1OSD0fyfKVoM",
        "outputId": "f9299a8c-c59b-43c6-d910-d47e13a7f14f"
      },
      "outputs": [
        {
          "data": {
            "text/plain": [
              "array([[3., 3., 3., 3., 3.],\n",
              "       [3., 3., 3., 3., 3.],\n",
              "       [3., 3., 3., 3., 3.]])"
            ]
          },
          "execution_count": 26,
          "metadata": {},
          "output_type": "execute_result"
        }
      ],
      "source": [
        ""
      ]
    },
    {
      "cell_type": "code",
      "execution_count": null,
      "metadata": {
        "id": "bWNarvBVKVoN"
      },
      "outputs": [],
      "source": [
        "# code here (arange)"
      ]
    },
    {
      "cell_type": "code",
      "execution_count": null,
      "metadata": {
        "id": "aN8vAgGXKVoN",
        "outputId": "f01d442d-2c58-43fb-aefd-8e8f1e31a69c"
      },
      "outputs": [
        {
          "data": {
            "text/plain": [
              "array([ 0,  3,  6,  9, 12, 15, 18, 21, 24, 27, 30])"
            ]
          },
          "execution_count": 135,
          "metadata": {},
          "output_type": "execute_result"
        }
      ],
      "source": [
        ""
      ]
    },
    {
      "cell_type": "code",
      "execution_count": null,
      "metadata": {
        "id": "tOwNy0blKVoN"
      },
      "outputs": [],
      "source": [
        "# code here (linspace)"
      ]
    },
    {
      "cell_type": "code",
      "execution_count": null,
      "metadata": {
        "id": "YMcQAkW4KVoN",
        "outputId": "1ae71d44-838e-4078-c5d2-81f261111e38"
      },
      "outputs": [
        {
          "data": {
            "text/plain": [
              "array([0.        , 0.11111111, 0.22222222, 0.33333333, 0.44444444,\n",
              "       0.55555556, 0.66666667, 0.77777778, 0.88888889, 1.        ])"
            ]
          },
          "execution_count": 136,
          "metadata": {},
          "output_type": "execute_result"
        }
      ],
      "source": [
        ""
      ]
    },
    {
      "cell_type": "code",
      "execution_count": null,
      "metadata": {
        "id": "a-7d9m1jKVoO"
      },
      "outputs": [],
      "source": [
        "# code here (random.normal)"
      ]
    },
    {
      "cell_type": "code",
      "execution_count": null,
      "metadata": {
        "id": "VpUTSvfIKVoO",
        "outputId": "ed6e36b9-d553-47a8-ef34-6e7c66ba4c2e"
      },
      "outputs": [
        {
          "data": {
            "text/plain": [
              "array([[17.36153175, 13.13320486,  7.9751651 , 10.96652924],\n",
              "       [15.88966379, 14.9596121 ,  0.79541802, 13.03982467],\n",
              "       [11.16320473,  8.95138261, 11.24850164, 14.35247169]])"
            ]
          },
          "execution_count": 27,
          "metadata": {},
          "output_type": "execute_result"
        }
      ],
      "source": [
        ""
      ]
    },
    {
      "cell_type": "code",
      "execution_count": null,
      "metadata": {
        "id": "2xBtMhy4KVoO"
      },
      "outputs": [],
      "source": [
        "# code here (random.randint)"
      ]
    },
    {
      "cell_type": "code",
      "execution_count": null,
      "metadata": {
        "id": "PNWp3MmVKVoO",
        "outputId": "1ea44646-c426-47d2-bfdd-a16023e59472"
      },
      "outputs": [
        {
          "data": {
            "text/plain": [
              "array([[5, 8],\n",
              "       [5, 2],\n",
              "       [7, 5],\n",
              "       [7, 7],\n",
              "       [0, 5]])"
            ]
          },
          "execution_count": 28,
          "metadata": {},
          "output_type": "execute_result"
        }
      ],
      "source": [
        ""
      ]
    },
    {
      "cell_type": "markdown",
      "metadata": {
        "id": "eFBl9r_HKVoP"
      },
      "source": [
        "### Özellikleri"
      ]
    },
    {
      "cell_type": "markdown",
      "metadata": {
        "id": "o-VLl-0fKVoP"
      },
      "source": [
        "* **ndim**: _boyut sayısı_\n",
        "* shape: boyut bilgisi\n",
        "* size: toplam eleman sayısı\n",
        "* dtype: array veri tipi"
      ]
    },
    {
      "cell_type": "code",
      "execution_count": null,
      "metadata": {
        "id": "hKfbT8GaKVoP"
      },
      "outputs": [],
      "source": [
        "import numpy as np"
      ]
    },
    {
      "cell_type": "code",
      "execution_count": null,
      "metadata": {
        "id": "DZ7eWsxPKVoQ"
      },
      "outputs": [],
      "source": [
        "# code here(random.randint, hihg=10, size=10)"
      ]
    },
    {
      "cell_type": "code",
      "execution_count": null,
      "metadata": {
        "id": "ncrO1OQ4KVoQ",
        "outputId": "86ff5766-ad0e-4323-c3de-e2b1bbb1f4a8"
      },
      "outputs": [
        {
          "data": {
            "text/plain": [
              "array([9, 8, 7, 8, 5, 3, 6, 8, 2, 8])"
            ]
          },
          "execution_count": 31,
          "metadata": {},
          "output_type": "execute_result"
        }
      ],
      "source": [
        ""
      ]
    },
    {
      "cell_type": "code",
      "execution_count": null,
      "metadata": {
        "id": "bMDZS-BnKVoQ",
        "outputId": "04a91aa2-f68b-4e5f-9cc2-71624c389478"
      },
      "outputs": [
        {
          "data": {
            "text/plain": [
              "array([9, 8, 4, 1, 6, 7, 9, 5, 2, 3])"
            ]
          },
          "execution_count": 141,
          "metadata": {},
          "output_type": "execute_result"
        }
      ],
      "source": [
        "a = np.random.randint(10, size = 10)\n",
        "a"
      ]
    },
    {
      "cell_type": "code",
      "execution_count": null,
      "metadata": {
        "id": "Hu1ptXwlKVoR"
      },
      "outputs": [],
      "source": [
        "# code here (find the dimension of a)"
      ]
    },
    {
      "cell_type": "code",
      "execution_count": null,
      "metadata": {
        "id": "GIQyIbsDKVoR",
        "outputId": "fdee80c3-3496-4599-a8f6-013c0d7cc740"
      },
      "outputs": [
        {
          "data": {
            "text/plain": [
              "1"
            ]
          },
          "execution_count": 142,
          "metadata": {},
          "output_type": "execute_result"
        }
      ],
      "source": [
        ""
      ]
    },
    {
      "cell_type": "code",
      "execution_count": null,
      "metadata": {
        "id": "8OcWaSSiKVoR"
      },
      "outputs": [],
      "source": [
        "# code here (find the shape of a)"
      ]
    },
    {
      "cell_type": "code",
      "execution_count": null,
      "metadata": {
        "id": "vKxA5UMtKVoR",
        "outputId": "f6b2c86a-c5de-4efd-aa81-99b6764697a0"
      },
      "outputs": [
        {
          "data": {
            "text/plain": [
              "(10,)"
            ]
          },
          "execution_count": 143,
          "metadata": {},
          "output_type": "execute_result"
        }
      ],
      "source": [
        ""
      ]
    },
    {
      "cell_type": "code",
      "execution_count": null,
      "metadata": {
        "id": "ad-Bv--QKVoS"
      },
      "outputs": [],
      "source": [
        "# code here (find the size of a)"
      ]
    },
    {
      "cell_type": "code",
      "execution_count": null,
      "metadata": {
        "id": "6ByfUlRBKVoS",
        "outputId": "bb2ee01f-1917-4016-c6a6-4ed06491d23a"
      },
      "outputs": [
        {
          "data": {
            "text/plain": [
              "10"
            ]
          },
          "execution_count": 144,
          "metadata": {},
          "output_type": "execute_result"
        }
      ],
      "source": [
        ""
      ]
    },
    {
      "cell_type": "code",
      "execution_count": null,
      "metadata": {
        "id": "193Sy4nQKVoS"
      },
      "outputs": [],
      "source": [
        "# code here (find the dtype of a)"
      ]
    },
    {
      "cell_type": "code",
      "execution_count": null,
      "metadata": {
        "id": "IuQtqRe7KVoS",
        "outputId": "9846159a-4060-42c1-dba5-4cb9479f4e87"
      },
      "outputs": [
        {
          "data": {
            "text/plain": [
              "dtype('int32')"
            ]
          },
          "execution_count": 145,
          "metadata": {},
          "output_type": "execute_result"
        }
      ],
      "source": [
        ""
      ]
    },
    {
      "cell_type": "code",
      "execution_count": null,
      "metadata": {
        "id": "UFiFLTAiKVoT"
      },
      "outputs": [],
      "source": [
        "# code here(assign your code to 'b', random.randint, hihg=20, size=(4,6))"
      ]
    },
    {
      "cell_type": "code",
      "execution_count": null,
      "metadata": {
        "id": "X14RSfhxKVoT"
      },
      "outputs": [],
      "source": [
        ""
      ]
    },
    {
      "cell_type": "code",
      "execution_count": null,
      "metadata": {
        "id": "7jDAOwl5KVoT",
        "outputId": "8aa6c260-8749-4e3d-8065-a76438ae883e"
      },
      "outputs": [
        {
          "data": {
            "text/plain": [
              "array([[14, 16,  3,  7,  1],\n",
              "       [ 3, 16,  2,  6,  0],\n",
              "       [15,  9,  8,  9, 19],\n",
              "       [ 3, 10,  4,  6, 15]])"
            ]
          },
          "execution_count": 33,
          "metadata": {},
          "output_type": "execute_result"
        }
      ],
      "source": [
        "b"
      ]
    },
    {
      "cell_type": "code",
      "execution_count": null,
      "metadata": {
        "id": "MQEDbPzSKVoT"
      },
      "outputs": [],
      "source": [
        "b = np.random.randint(20, size = (4,6))"
      ]
    },
    {
      "cell_type": "code",
      "execution_count": null,
      "metadata": {
        "id": "w8j7dsRdKVoT"
      },
      "outputs": [],
      "source": [
        "# code here (find the dimension of b)"
      ]
    },
    {
      "cell_type": "code",
      "execution_count": null,
      "metadata": {
        "id": "SVIUklCWKVoU",
        "outputId": "a81a8475-9d7b-4e81-f0f4-0820bdc71711"
      },
      "outputs": [
        {
          "data": {
            "text/plain": [
              "2"
            ]
          },
          "execution_count": 35,
          "metadata": {},
          "output_type": "execute_result"
        }
      ],
      "source": [
        ""
      ]
    },
    {
      "cell_type": "code",
      "execution_count": null,
      "metadata": {
        "id": "h4Y7366pKVoU"
      },
      "outputs": [],
      "source": [
        "# code here (find the shape of b)"
      ]
    },
    {
      "cell_type": "code",
      "execution_count": null,
      "metadata": {
        "id": "JAhmGf9vKVoU",
        "outputId": "719e8273-b9cc-4871-a1cf-31a2ad2bac9a"
      },
      "outputs": [
        {
          "data": {
            "text/plain": [
              "(4, 6)"
            ]
          },
          "execution_count": 36,
          "metadata": {},
          "output_type": "execute_result"
        }
      ],
      "source": [
        ""
      ]
    },
    {
      "cell_type": "code",
      "execution_count": null,
      "metadata": {
        "id": "NpsyqS-5KVoU"
      },
      "outputs": [],
      "source": [
        "# code here (find the size of b)"
      ]
    },
    {
      "cell_type": "code",
      "execution_count": null,
      "metadata": {
        "id": "VDpCTI3yKVoV",
        "outputId": "47077bed-366d-4bcd-dd4b-c87374d7d909"
      },
      "outputs": [
        {
          "data": {
            "text/plain": [
              "24"
            ]
          },
          "execution_count": 37,
          "metadata": {},
          "output_type": "execute_result"
        }
      ],
      "source": [
        ""
      ]
    },
    {
      "cell_type": "code",
      "execution_count": null,
      "metadata": {
        "id": "EDQ6XX_AKVoV"
      },
      "outputs": [],
      "source": [
        "# code here (find the dtype of b)"
      ]
    },
    {
      "cell_type": "code",
      "execution_count": null,
      "metadata": {
        "id": "1CmH72VNKVoV",
        "outputId": "5262bda1-a243-48dd-d7fb-bc3e3ffeb40e"
      },
      "outputs": [
        {
          "data": {
            "text/plain": [
              "dtype('int32')"
            ]
          },
          "execution_count": 38,
          "metadata": {},
          "output_type": "execute_result"
        }
      ],
      "source": [
        ""
      ]
    },
    {
      "cell_type": "markdown",
      "metadata": {
        "id": "iVykieZzKVoV"
      },
      "source": [
        "# Yeniden Şekillendirme (Reshaping)"
      ]
    },
    {
      "cell_type": "code",
      "execution_count": null,
      "metadata": {
        "id": "VUfCgXqBKVoW"
      },
      "outputs": [],
      "source": [
        "import numpy as np"
      ]
    },
    {
      "cell_type": "code",
      "execution_count": null,
      "metadata": {
        "id": "XNLIcGv3KVoW"
      },
      "outputs": [],
      "source": [
        "# code here (arange, start=1, stop=10)"
      ]
    },
    {
      "cell_type": "code",
      "execution_count": null,
      "metadata": {
        "id": "BoxKHhsiKVoW",
        "outputId": "9db5b416-c4e3-49a4-b124-df13236d2b7c"
      },
      "outputs": [
        {
          "data": {
            "text/plain": [
              "array([1, 2, 3, 4, 5, 6, 7, 8, 9])"
            ]
          },
          "execution_count": 153,
          "metadata": {},
          "output_type": "execute_result"
        }
      ],
      "source": [
        ""
      ]
    },
    {
      "cell_type": "code",
      "execution_count": null,
      "metadata": {
        "id": "25MfDLfzKVoW"
      },
      "outputs": [],
      "source": [
        "# code here (reshape (3,3) your coding above)"
      ]
    },
    {
      "cell_type": "code",
      "execution_count": null,
      "metadata": {
        "id": "T7IjXWcEKVoW",
        "outputId": "3a9111fa-b0da-4e48-cb47-d13c54eaafd7"
      },
      "outputs": [
        {
          "data": {
            "text/plain": [
              "array([[1, 2, 3],\n",
              "       [4, 5, 6],\n",
              "       [7, 8, 9]])"
            ]
          },
          "execution_count": 154,
          "metadata": {},
          "output_type": "execute_result"
        }
      ],
      "source": [
        ""
      ]
    },
    {
      "cell_type": "code",
      "execution_count": null,
      "metadata": {
        "id": "2YosphHZKVoX"
      },
      "outputs": [],
      "source": [
        "a = np.arange(1,10)"
      ]
    },
    {
      "cell_type": "code",
      "execution_count": null,
      "metadata": {
        "id": "U8Wfh67PKVoX",
        "outputId": "b551c12b-ee31-4655-95f5-e8b7fb3fdeb1"
      },
      "outputs": [
        {
          "data": {
            "text/plain": [
              "array([1, 2, 3, 4, 5, 6, 7, 8, 9])"
            ]
          },
          "execution_count": 156,
          "metadata": {},
          "output_type": "execute_result"
        }
      ],
      "source": [
        "a"
      ]
    },
    {
      "cell_type": "code",
      "execution_count": null,
      "metadata": {
        "id": "WJ--kq5yKVoX"
      },
      "outputs": [],
      "source": [
        "# code here (find the dimension of a)"
      ]
    },
    {
      "cell_type": "code",
      "execution_count": null,
      "metadata": {
        "id": "hRXAo4k2KVoX",
        "outputId": "51d87826-791e-4930-f8f4-559953ea0c8b"
      },
      "outputs": [
        {
          "data": {
            "text/plain": [
              "1"
            ]
          },
          "execution_count": 157,
          "metadata": {},
          "output_type": "execute_result"
        }
      ],
      "source": [
        ""
      ]
    },
    {
      "cell_type": "code",
      "execution_count": null,
      "metadata": {
        "id": "F_I02Xj3KVoY"
      },
      "outputs": [],
      "source": [
        "# code here (reshape a as (1,9) and assign to b)"
      ]
    },
    {
      "cell_type": "code",
      "execution_count": null,
      "metadata": {
        "id": "fSAJ5e9NKVoY",
        "outputId": "a4fe3f6b-3e01-49fd-e3cd-17c45c7f42e6"
      },
      "outputs": [
        {
          "data": {
            "text/plain": [
              "array([[1, 2, 3, 4, 5, 6, 7, 8, 9]])"
            ]
          },
          "execution_count": 159,
          "metadata": {},
          "output_type": "execute_result"
        }
      ],
      "source": [
        "b"
      ]
    },
    {
      "cell_type": "code",
      "execution_count": null,
      "metadata": {
        "id": "1vmNVQInKVoY"
      },
      "outputs": [],
      "source": [
        "# code here (find the dimension of b)"
      ]
    },
    {
      "cell_type": "code",
      "execution_count": null,
      "metadata": {
        "id": "VdcUEJuDKVoY",
        "outputId": "93ce0e05-a1f3-429e-cbb7-ed828c9c1c1b"
      },
      "outputs": [
        {
          "data": {
            "text/plain": [
              "2"
            ]
          },
          "execution_count": 160,
          "metadata": {},
          "output_type": "execute_result"
        }
      ],
      "source": [
        ""
      ]
    },
    {
      "cell_type": "markdown",
      "metadata": {
        "id": "otSz9ep6KVoZ"
      },
      "source": [
        "### Array Birlestirme (Concatenation)"
      ]
    },
    {
      "cell_type": "code",
      "execution_count": null,
      "metadata": {
        "id": "ZqvWM-aPKVoZ"
      },
      "outputs": [],
      "source": [
        "import numpy as np"
      ]
    },
    {
      "cell_type": "code",
      "execution_count": null,
      "metadata": {
        "id": "FKUe2WC3KVoZ"
      },
      "outputs": [],
      "source": [
        "x = np.array([1,2,3])\n",
        "y = np.array([4,5,6])"
      ]
    },
    {
      "cell_type": "code",
      "execution_count": null,
      "metadata": {
        "id": "VVuZ4UXJKVoZ"
      },
      "outputs": [],
      "source": [
        "# code here (concatenate x and y)"
      ]
    },
    {
      "cell_type": "code",
      "execution_count": null,
      "metadata": {
        "id": "07n4BY8YKVoZ",
        "outputId": "72f50002-d923-402a-acfd-75e00879c40d"
      },
      "outputs": [
        {
          "data": {
            "text/plain": [
              "array([1, 2, 3, 4, 5, 6])"
            ]
          },
          "execution_count": 163,
          "metadata": {},
          "output_type": "execute_result"
        }
      ],
      "source": [
        ""
      ]
    },
    {
      "cell_type": "code",
      "execution_count": null,
      "metadata": {
        "id": "RaUbBvw0KVoa"
      },
      "outputs": [],
      "source": [
        "z = np.array([7,8,9])"
      ]
    },
    {
      "cell_type": "code",
      "execution_count": null,
      "metadata": {
        "id": "oCxz2r5qKVoa"
      },
      "outputs": [],
      "source": [
        "# code here (concatenate x, y and z)"
      ]
    },
    {
      "cell_type": "code",
      "execution_count": null,
      "metadata": {
        "id": "0cbeGAoFKVoa",
        "outputId": "3f6c23cb-9768-45d3-eb38-a2b64d76ddf2"
      },
      "outputs": [
        {
          "data": {
            "text/plain": [
              "array([1, 2, 3, 4, 5, 6, 7, 8, 9])"
            ]
          },
          "execution_count": 165,
          "metadata": {},
          "output_type": "execute_result"
        }
      ],
      "source": [
        ""
      ]
    },
    {
      "cell_type": "code",
      "execution_count": null,
      "metadata": {
        "id": "u4T92mFjKVoa"
      },
      "outputs": [],
      "source": [
        "# code here (concatenate z, y and x)"
      ]
    },
    {
      "cell_type": "code",
      "execution_count": null,
      "metadata": {
        "id": "9o-8FYT4KVob",
        "outputId": "f1bf32b2-c747-430d-b04d-898566d6e0bc"
      },
      "outputs": [
        {
          "data": {
            "text/plain": [
              "array([7, 8, 9, 4, 5, 6, 1, 2, 3])"
            ]
          },
          "execution_count": 166,
          "metadata": {},
          "output_type": "execute_result"
        }
      ],
      "source": [
        ""
      ]
    },
    {
      "cell_type": "code",
      "execution_count": null,
      "metadata": {
        "id": "7uj2-DQ7KVob"
      },
      "outputs": [],
      "source": [
        "a = np.array([[1,2,3], \n",
        "              [4,5,6]])"
      ]
    },
    {
      "cell_type": "code",
      "execution_count": null,
      "metadata": {
        "id": "0w5Oeab_KVob"
      },
      "outputs": [],
      "source": [
        "# code here (concatenate a and a)"
      ]
    },
    {
      "cell_type": "code",
      "execution_count": null,
      "metadata": {
        "id": "zH93mKLZKVob",
        "outputId": "b75672e0-f8cc-4a9b-9570-927a05d85f18"
      },
      "outputs": [
        {
          "data": {
            "text/plain": [
              "array([[1, 2, 3],\n",
              "       [4, 5, 6],\n",
              "       [1, 2, 3],\n",
              "       [4, 5, 6]])"
            ]
          },
          "execution_count": 169,
          "metadata": {},
          "output_type": "execute_result"
        }
      ],
      "source": [
        ""
      ]
    },
    {
      "cell_type": "code",
      "execution_count": null,
      "metadata": {
        "id": "HZ_otIYKKVob"
      },
      "outputs": [],
      "source": [
        "# code here (concatenate a and a)"
      ]
    },
    {
      "cell_type": "code",
      "execution_count": null,
      "metadata": {
        "id": "steB-LepKVoc",
        "outputId": "93849db3-bfd7-4aeb-d72a-d4e5a8037d9a"
      },
      "outputs": [
        {
          "data": {
            "text/plain": [
              "array([[1, 2, 3, 1, 2, 3],\n",
              "       [4, 5, 6, 4, 5, 6]])"
            ]
          },
          "execution_count": 170,
          "metadata": {},
          "output_type": "execute_result"
        }
      ],
      "source": [
        ""
      ]
    },
    {
      "cell_type": "markdown",
      "metadata": {
        "id": "L8m_V8iPKVoc"
      },
      "source": [
        "# Array Ayırma (Splitting)"
      ]
    },
    {
      "cell_type": "code",
      "execution_count": null,
      "metadata": {
        "id": "-I7WPm2_KVoc"
      },
      "outputs": [],
      "source": [
        "import numpy as np"
      ]
    },
    {
      "cell_type": "code",
      "execution_count": null,
      "metadata": {
        "id": "37OpLY_uKVoc"
      },
      "outputs": [],
      "source": [
        "x = np.array([1,2,3,99,99,3,2,1])"
      ]
    },
    {
      "cell_type": "code",
      "execution_count": null,
      "metadata": {
        "id": "_giQ7ZsiKVod"
      },
      "outputs": [],
      "source": [
        "# code here (split x from 3 and 5)"
      ]
    },
    {
      "cell_type": "code",
      "execution_count": null,
      "metadata": {
        "id": "xX0Mde_PKVod",
        "outputId": "c71e1a7f-0152-41da-948e-79e320956866"
      },
      "outputs": [
        {
          "data": {
            "text/plain": [
              "[array([1, 2, 3]), array([99, 99]), array([3, 2, 1])]"
            ]
          },
          "execution_count": 173,
          "metadata": {},
          "output_type": "execute_result"
        }
      ],
      "source": [
        ""
      ]
    },
    {
      "cell_type": "code",
      "execution_count": null,
      "metadata": {
        "id": "Y7rPni-RKVoi"
      },
      "outputs": [],
      "source": [
        "# code here (do a tuple unpacking for above splitting in order of a,b,c)"
      ]
    },
    {
      "cell_type": "code",
      "execution_count": null,
      "metadata": {
        "id": "oeqRgKLqKVoj"
      },
      "outputs": [],
      "source": [
        ""
      ]
    },
    {
      "cell_type": "code",
      "execution_count": null,
      "metadata": {
        "id": "rRv7vsjWKVoj",
        "outputId": "034d201e-ec29-4315-95aa-f728dc48d1d8"
      },
      "outputs": [
        {
          "data": {
            "text/plain": [
              "array([1, 2, 3])"
            ]
          },
          "execution_count": 175,
          "metadata": {},
          "output_type": "execute_result"
        }
      ],
      "source": [
        "a"
      ]
    },
    {
      "cell_type": "code",
      "execution_count": null,
      "metadata": {
        "id": "zJ6gH8jZKVoj",
        "outputId": "5fef5702-23a7-474b-c525-4cd6c6734fca"
      },
      "outputs": [
        {
          "data": {
            "text/plain": [
              "array([99, 99])"
            ]
          },
          "execution_count": 176,
          "metadata": {},
          "output_type": "execute_result"
        }
      ],
      "source": [
        "b"
      ]
    },
    {
      "cell_type": "code",
      "execution_count": null,
      "metadata": {
        "id": "w9lEDWVsKVoj",
        "outputId": "66376d2e-da31-4bad-e110-424a927e9a31"
      },
      "outputs": [
        {
          "data": {
            "text/plain": [
              "array([3, 2, 1])"
            ]
          },
          "execution_count": 177,
          "metadata": {},
          "output_type": "execute_result"
        }
      ],
      "source": [
        "c"
      ]
    },
    {
      "cell_type": "code",
      "execution_count": null,
      "metadata": {
        "id": "khFFANM1KVok"
      },
      "outputs": [],
      "source": [
        "#iki boyutlu ayırma"
      ]
    },
    {
      "cell_type": "code",
      "execution_count": null,
      "metadata": {
        "id": "FtknTo38KVok",
        "outputId": "597a98c9-5071-42cb-9930-ef20be4c14ca"
      },
      "outputs": [
        {
          "data": {
            "text/plain": [
              "array([[ 0,  1,  2,  3],\n",
              "       [ 4,  5,  6,  7],\n",
              "       [ 8,  9, 10, 11],\n",
              "       [12, 13, 14, 15]])"
            ]
          },
          "execution_count": 54,
          "metadata": {},
          "output_type": "execute_result"
        }
      ],
      "source": [
        "m = np.arange(16).reshape(4,4)\n",
        "m"
      ]
    },
    {
      "cell_type": "code",
      "execution_count": null,
      "metadata": {
        "id": "uthHtZPXKVol"
      },
      "outputs": [],
      "source": [
        "# code here (split m)"
      ]
    },
    {
      "cell_type": "code",
      "execution_count": null,
      "metadata": {
        "id": "l1e1dZHxKVol",
        "outputId": "a539457e-2168-494d-e188-6f1f6ae7c62a"
      },
      "outputs": [
        {
          "data": {
            "text/plain": [
              "[array([[0, 1, 2, 3],\n",
              "        [4, 5, 6, 7]]),\n",
              " array([[ 8,  9, 10, 11],\n",
              "        [12, 13, 14, 15]])]"
            ]
          },
          "execution_count": 55,
          "metadata": {},
          "output_type": "execute_result"
        }
      ],
      "source": [
        ""
      ]
    },
    {
      "cell_type": "code",
      "execution_count": null,
      "metadata": {
        "id": "NoImcYn0KVol"
      },
      "outputs": [],
      "source": [
        "# code here (split m)"
      ]
    },
    {
      "cell_type": "code",
      "execution_count": null,
      "metadata": {
        "id": "0ItU7ed3KVol",
        "outputId": "e8d98df5-b140-4981-9a03-8921f0529fd2"
      },
      "outputs": [
        {
          "data": {
            "text/plain": [
              "[array([[ 0,  1],\n",
              "        [ 4,  5],\n",
              "        [ 8,  9],\n",
              "        [12, 13]]),\n",
              " array([[ 2,  3],\n",
              "        [ 6,  7],\n",
              "        [10, 11],\n",
              "        [14, 15]])]"
            ]
          },
          "execution_count": 185,
          "metadata": {},
          "output_type": "execute_result"
        }
      ],
      "source": [
        ""
      ]
    },
    {
      "cell_type": "markdown",
      "metadata": {
        "id": "4cqDhVF-KVom"
      },
      "source": [
        "### Array Sıralama (Sorting)"
      ]
    },
    {
      "cell_type": "code",
      "execution_count": null,
      "metadata": {
        "id": "RIcNzo2AKVom"
      },
      "outputs": [],
      "source": [
        "import numpy as np"
      ]
    },
    {
      "cell_type": "code",
      "execution_count": null,
      "metadata": {
        "id": "2rAexnOWKVom"
      },
      "outputs": [],
      "source": [
        "v = np.array([2,1,4,3,5])"
      ]
    },
    {
      "cell_type": "code",
      "execution_count": null,
      "metadata": {
        "id": "UK6uWGaDKVom",
        "outputId": "db627a67-85a3-4e92-a368-1f2e2ced7571"
      },
      "outputs": [
        {
          "data": {
            "text/plain": [
              "array([2, 1, 4, 3, 5])"
            ]
          },
          "execution_count": 58,
          "metadata": {},
          "output_type": "execute_result"
        }
      ],
      "source": [
        "v"
      ]
    },
    {
      "cell_type": "code",
      "execution_count": null,
      "metadata": {
        "id": "gK0waMljKVom"
      },
      "outputs": [],
      "source": [
        "# code here (sort v)"
      ]
    },
    {
      "cell_type": "code",
      "execution_count": null,
      "metadata": {
        "id": "_e5uQyUTKVon",
        "outputId": "180da0f6-46fb-416e-a931-044da440ab92"
      },
      "outputs": [
        {
          "data": {
            "text/plain": [
              "array([1, 2, 3, 4, 5])"
            ]
          },
          "execution_count": 192,
          "metadata": {},
          "output_type": "execute_result"
        }
      ],
      "source": [
        ""
      ]
    },
    {
      "cell_type": "code",
      "execution_count": null,
      "metadata": {
        "id": "3H1vwQm3KVon"
      },
      "outputs": [],
      "source": [
        "# iki boyutlu array siralama"
      ]
    },
    {
      "cell_type": "code",
      "execution_count": null,
      "metadata": {
        "id": "hCmju5bvKVon"
      },
      "outputs": [],
      "source": [
        "m = np.random.normal(20,5, (3,3))"
      ]
    },
    {
      "cell_type": "code",
      "execution_count": null,
      "metadata": {
        "id": "MZ7HeLLTKVon",
        "outputId": "21ab09f1-cf3b-4914-f4ce-49a5384f191b"
      },
      "outputs": [
        {
          "data": {
            "text/plain": [
              "array([[20.00086064, 11.4711052 , 28.44452052],\n",
              "       [16.0648143 , 23.22445351, 15.02090679],\n",
              "       [20.03722184, 22.39429448,  9.34939833]])"
            ]
          },
          "execution_count": 68,
          "metadata": {},
          "output_type": "execute_result"
        }
      ],
      "source": [
        "m"
      ]
    },
    {
      "cell_type": "code",
      "execution_count": null,
      "metadata": {
        "id": "rne6VQH2KVoo"
      },
      "outputs": [],
      "source": [
        "# code here (sort m)"
      ]
    },
    {
      "cell_type": "code",
      "execution_count": null,
      "metadata": {
        "id": "QBpPqtN5KVoo",
        "outputId": "dc8e6878-24f3-4a4b-f5f9-24fe21d1af05"
      },
      "outputs": [
        {
          "data": {
            "text/plain": [
              "array([[11.4711052 , 20.00086064, 28.44452052],\n",
              "       [15.02090679, 16.0648143 , 23.22445351],\n",
              "       [ 9.34939833, 20.03722184, 22.39429448]])"
            ]
          },
          "execution_count": 70,
          "metadata": {},
          "output_type": "execute_result"
        }
      ],
      "source": [
        ""
      ]
    },
    {
      "cell_type": "code",
      "execution_count": null,
      "metadata": {
        "id": "afJkPcVFKVoo"
      },
      "outputs": [],
      "source": [
        "# code here (sort m)"
      ]
    },
    {
      "cell_type": "code",
      "execution_count": null,
      "metadata": {
        "id": "HlbOP-ypKVoo",
        "outputId": "53e091f6-3a02-48f9-b7ea-ee0da5318459"
      },
      "outputs": [
        {
          "data": {
            "text/plain": [
              "array([[16.0648143 , 11.4711052 ,  9.34939833],\n",
              "       [20.00086064, 22.39429448, 15.02090679],\n",
              "       [20.03722184, 23.22445351, 28.44452052]])"
            ]
          },
          "execution_count": 72,
          "metadata": {},
          "output_type": "execute_result"
        }
      ],
      "source": [
        ""
      ]
    },
    {
      "cell_type": "markdown",
      "metadata": {
        "id": "JxdhFf_JKVop"
      },
      "source": [
        "# Index ile Elemanlara Erişmek"
      ]
    },
    {
      "cell_type": "code",
      "execution_count": null,
      "metadata": {
        "id": "oanOakyBKVop",
        "outputId": "3306b29a-4834-411a-909b-76f2fce77a84"
      },
      "outputs": [
        {
          "data": {
            "text/plain": [
              "array([3, 1, 3, 9, 8, 3, 2, 5, 7, 6])"
            ]
          },
          "execution_count": 73,
          "metadata": {},
          "output_type": "execute_result"
        }
      ],
      "source": [
        "import numpy as np\n",
        "a = np.random.randint(10, size = 10)\n",
        "a"
      ]
    },
    {
      "cell_type": "code",
      "execution_count": null,
      "metadata": {
        "id": "n4rS63wvKVop"
      },
      "outputs": [],
      "source": [
        "# code here"
      ]
    },
    {
      "cell_type": "code",
      "execution_count": null,
      "metadata": {
        "id": "ia8Dp34BKVop",
        "outputId": "9318adda-4a5a-4210-c828-15df9fdd41e7"
      },
      "outputs": [
        {
          "data": {
            "text/plain": [
              "3"
            ]
          },
          "execution_count": 74,
          "metadata": {},
          "output_type": "execute_result"
        }
      ],
      "source": [
        ""
      ]
    },
    {
      "cell_type": "code",
      "execution_count": null,
      "metadata": {
        "id": "nncXy7iIKVoq"
      },
      "outputs": [],
      "source": [
        "# code here"
      ]
    },
    {
      "cell_type": "code",
      "execution_count": null,
      "metadata": {
        "id": "_Q6GeZImKVoq",
        "outputId": "be9cfbcd-6c48-4dc5-9bda-7d493375524d"
      },
      "outputs": [
        {
          "data": {
            "text/plain": [
              "6"
            ]
          },
          "execution_count": 75,
          "metadata": {},
          "output_type": "execute_result"
        }
      ],
      "source": [
        ""
      ]
    },
    {
      "cell_type": "code",
      "execution_count": null,
      "metadata": {
        "id": "8gibbdVLKVoq"
      },
      "outputs": [],
      "source": [
        "a[2], a[5], a[9] = [4, 0, 100]"
      ]
    },
    {
      "cell_type": "code",
      "execution_count": null,
      "metadata": {
        "id": "cnXgLgE4KVoq"
      },
      "outputs": [],
      "source": [
        "# code here"
      ]
    },
    {
      "cell_type": "code",
      "execution_count": null,
      "metadata": {
        "id": "NsgSS_bLKVoq",
        "outputId": "d2c5f4eb-c081-40c4-e229-e9ec6b7e8f0d"
      },
      "outputs": [
        {
          "data": {
            "text/plain": [
              "4"
            ]
          },
          "execution_count": 78,
          "metadata": {},
          "output_type": "execute_result"
        }
      ],
      "source": [
        ""
      ]
    },
    {
      "cell_type": "code",
      "execution_count": null,
      "metadata": {
        "id": "hRvEcDgnKVor"
      },
      "outputs": [],
      "source": [
        "# code here"
      ]
    },
    {
      "cell_type": "code",
      "execution_count": null,
      "metadata": {
        "id": "Dx0pHDc9KVor",
        "outputId": "0085efa4-cd5c-4287-c51e-63a7765b5001"
      },
      "outputs": [
        {
          "data": {
            "text/plain": [
              "0"
            ]
          },
          "execution_count": 79,
          "metadata": {},
          "output_type": "execute_result"
        }
      ],
      "source": [
        ""
      ]
    },
    {
      "cell_type": "code",
      "execution_count": null,
      "metadata": {
        "id": "zEVTxC3OKVor"
      },
      "outputs": [],
      "source": [
        "# code here"
      ]
    },
    {
      "cell_type": "code",
      "execution_count": null,
      "metadata": {
        "id": "K5iGmpELKVor",
        "outputId": "fb6405b8-5509-412a-d710-a0e65d2a8767"
      },
      "outputs": [
        {
          "data": {
            "text/plain": [
              "100"
            ]
          },
          "execution_count": 80,
          "metadata": {},
          "output_type": "execute_result"
        }
      ],
      "source": [
        ""
      ]
    },
    {
      "cell_type": "code",
      "execution_count": null,
      "metadata": {
        "id": "oIiMTN0rKVor",
        "outputId": "ad3a73ab-e5e8-4b78-e453-76ac2511ab40"
      },
      "outputs": [
        {
          "data": {
            "text/plain": [
              "array([[8, 4, 2, 4, 6],\n",
              "       [5, 6, 4, 2, 9],\n",
              "       [8, 0, 0, 3, 6]])"
            ]
          },
          "execution_count": 81,
          "metadata": {},
          "output_type": "execute_result"
        }
      ],
      "source": [
        "m = np.random.randint(10, size = (3,5))\n",
        "m"
      ]
    },
    {
      "cell_type": "code",
      "execution_count": null,
      "metadata": {
        "id": "7X9Mr2_jKVos"
      },
      "outputs": [],
      "source": [
        "# code here"
      ]
    },
    {
      "cell_type": "code",
      "execution_count": null,
      "metadata": {
        "id": "uN9RTPRoKVos",
        "outputId": "5d7133e4-d075-4f37-d748-a18468acd44a"
      },
      "outputs": [
        {
          "data": {
            "text/plain": [
              "8"
            ]
          },
          "execution_count": 82,
          "metadata": {},
          "output_type": "execute_result"
        }
      ],
      "source": [
        ""
      ]
    },
    {
      "cell_type": "code",
      "execution_count": null,
      "metadata": {
        "id": "mxchfwxJKVos"
      },
      "outputs": [],
      "source": [
        "# code here"
      ]
    },
    {
      "cell_type": "code",
      "execution_count": null,
      "metadata": {
        "id": "4f-yEMwmKVos",
        "outputId": "603a6dea-ef30-4713-d565-b6a51cdf0ed0"
      },
      "outputs": [
        {
          "data": {
            "text/plain": [
              "6"
            ]
          },
          "execution_count": 83,
          "metadata": {},
          "output_type": "execute_result"
        }
      ],
      "source": [
        ""
      ]
    },
    {
      "cell_type": "code",
      "execution_count": null,
      "metadata": {
        "id": "TXa8ssElKVot"
      },
      "outputs": [],
      "source": [
        "# code here"
      ]
    },
    {
      "cell_type": "code",
      "execution_count": null,
      "metadata": {
        "id": "2JCeCXcFKVot",
        "outputId": "04e53865-6724-4bdf-ebc8-401daf6c5f0f"
      },
      "outputs": [
        {
          "data": {
            "text/plain": [
              "9"
            ]
          },
          "execution_count": 84,
          "metadata": {},
          "output_type": "execute_result"
        }
      ],
      "source": [
        "m[1, 4]"
      ]
    },
    {
      "cell_type": "code",
      "execution_count": null,
      "metadata": {
        "id": "l8sQOOfjKVot"
      },
      "outputs": [],
      "source": [
        "# code here (look at the below array)"
      ]
    },
    {
      "cell_type": "code",
      "execution_count": null,
      "metadata": {
        "id": "-W2XIkTKKVot",
        "outputId": "3e7f951f-d841-432a-be6d-732291ba9d10"
      },
      "outputs": [
        {
          "data": {
            "text/plain": [
              "array([[ 8,  4,  2,  4,  6],\n",
              "       [ 5,  6,  4,  2, 99],\n",
              "       [ 8,  0,  0,  3,  6]])"
            ]
          },
          "execution_count": 86,
          "metadata": {},
          "output_type": "execute_result"
        }
      ],
      "source": [
        "m"
      ]
    },
    {
      "cell_type": "code",
      "execution_count": null,
      "metadata": {
        "id": "31vOjM3pKVou"
      },
      "outputs": [],
      "source": [
        "# code here"
      ]
    },
    {
      "cell_type": "code",
      "execution_count": null,
      "metadata": {
        "id": "ETI2DNvlKVou",
        "outputId": "0e0558f6-8016-4824-9374-8840ae128621"
      },
      "outputs": [
        {
          "data": {
            "text/plain": [
              "3"
            ]
          },
          "execution_count": 87,
          "metadata": {},
          "output_type": "execute_result"
        }
      ],
      "source": [
        "m[2, 3]"
      ]
    },
    {
      "cell_type": "code",
      "execution_count": null,
      "metadata": {
        "id": "AQnsKOl5KVov"
      },
      "outputs": [],
      "source": [
        "# code here (look at the below array)"
      ]
    },
    {
      "cell_type": "code",
      "execution_count": null,
      "metadata": {
        "id": "emaJHM2xKVov",
        "outputId": "59c7aa11-e7cf-4d64-846d-a7f6afe3c132"
      },
      "outputs": [
        {
          "data": {
            "text/plain": [
              "array([[  8,   4,   2,   4,   6],\n",
              "       [  5,   6,   4,   2,  99],\n",
              "       [  8,   0,   0, 111,   6]])"
            ]
          },
          "execution_count": 89,
          "metadata": {},
          "output_type": "execute_result"
        }
      ],
      "source": [
        "m"
      ]
    },
    {
      "cell_type": "markdown",
      "metadata": {
        "id": "53YwJpkEKVov"
      },
      "source": [
        "# Slicing ile Elemanlara Erişmek (Array Alt Kümesine Erişmek)"
      ]
    },
    {
      "cell_type": "code",
      "execution_count": null,
      "metadata": {
        "id": "3LBQWnGIKVow"
      },
      "outputs": [],
      "source": [
        "import numpy as np"
      ]
    },
    {
      "cell_type": "code",
      "execution_count": null,
      "metadata": {
        "id": "yDhYUfIdKVow",
        "outputId": "1421d49b-11b8-4cd1-a355-ec686085908e"
      },
      "outputs": [
        {
          "data": {
            "text/plain": [
              "array([20, 21, 22, 23, 24, 25, 26, 27, 28, 29])"
            ]
          },
          "execution_count": 2,
          "metadata": {},
          "output_type": "execute_result"
        }
      ],
      "source": [
        "a = np.arange(20,30)\n",
        "a"
      ]
    },
    {
      "cell_type": "code",
      "execution_count": null,
      "metadata": {
        "id": "C3SJ_cA-KVow"
      },
      "outputs": [],
      "source": [
        "# code here"
      ]
    },
    {
      "cell_type": "code",
      "execution_count": null,
      "metadata": {
        "id": "qYjrdqg7KVox",
        "outputId": "5db91eda-d1ef-4c7b-e7fa-cb5282405c9e"
      },
      "outputs": [
        {
          "data": {
            "text/plain": [
              "array([20, 21, 22])"
            ]
          },
          "execution_count": 217,
          "metadata": {},
          "output_type": "execute_result"
        }
      ],
      "source": [
        ""
      ]
    },
    {
      "cell_type": "code",
      "execution_count": null,
      "metadata": {
        "id": "9a6UrKocKVox"
      },
      "outputs": [],
      "source": [
        "# code here"
      ]
    },
    {
      "cell_type": "code",
      "execution_count": null,
      "metadata": {
        "id": "CjKxOoETKVox",
        "outputId": "2758e9eb-547c-4e90-8a36-ae6150a261e8"
      },
      "outputs": [
        {
          "data": {
            "text/plain": [
              "array([20, 21, 22])"
            ]
          },
          "execution_count": 218,
          "metadata": {},
          "output_type": "execute_result"
        }
      ],
      "source": [
        ""
      ]
    },
    {
      "cell_type": "code",
      "execution_count": null,
      "metadata": {
        "id": "nHevSS7mKVox"
      },
      "outputs": [],
      "source": [
        "# code here"
      ]
    },
    {
      "cell_type": "code",
      "execution_count": null,
      "metadata": {
        "id": "ifBBwjD-KVox",
        "outputId": "b135aece-2776-42d4-ad2c-37fb1e293115"
      },
      "outputs": [
        {
          "data": {
            "text/plain": [
              "array([23, 24, 25, 26, 27, 28, 29])"
            ]
          },
          "execution_count": 219,
          "metadata": {},
          "output_type": "execute_result"
        }
      ],
      "source": [
        ""
      ]
    },
    {
      "cell_type": "code",
      "execution_count": null,
      "metadata": {
        "id": "SwUC5eRTKVoy"
      },
      "outputs": [],
      "source": [
        "# code here"
      ]
    },
    {
      "cell_type": "code",
      "execution_count": null,
      "metadata": {
        "id": "AdExX2OsKVoy",
        "outputId": "88a4713c-7070-450f-8228-9e64fd29c72e"
      },
      "outputs": [
        {
          "data": {
            "text/plain": [
              "array([21, 23, 25, 27, 29])"
            ]
          },
          "execution_count": 220,
          "metadata": {},
          "output_type": "execute_result"
        }
      ],
      "source": [
        ""
      ]
    },
    {
      "cell_type": "code",
      "execution_count": null,
      "metadata": {
        "id": "nyYJDrQYKVoz"
      },
      "outputs": [],
      "source": [
        "# code here"
      ]
    },
    {
      "cell_type": "code",
      "execution_count": null,
      "metadata": {
        "id": "z10W8dHvKVoz",
        "outputId": "677dcdd2-96b8-4779-d403-33ef70ace41d"
      },
      "outputs": [
        {
          "data": {
            "text/plain": [
              "array([20, 22, 24, 26, 28])"
            ]
          },
          "execution_count": 221,
          "metadata": {},
          "output_type": "execute_result"
        }
      ],
      "source": [
        ""
      ]
    },
    {
      "cell_type": "code",
      "execution_count": null,
      "metadata": {
        "id": "7RVFx1ADKVoz"
      },
      "outputs": [],
      "source": [
        "# code here"
      ]
    },
    {
      "cell_type": "code",
      "execution_count": null,
      "metadata": {
        "id": "ZzJn9CaxKVo0",
        "outputId": "ffcc6b06-0655-45c8-ffc2-946881ad8e6c"
      },
      "outputs": [
        {
          "data": {
            "text/plain": [
              "array([22, 24, 26, 28])"
            ]
          },
          "execution_count": 222,
          "metadata": {},
          "output_type": "execute_result"
        }
      ],
      "source": [
        ""
      ]
    },
    {
      "cell_type": "code",
      "execution_count": null,
      "metadata": {
        "id": "Ve_tZ-BoKVo0"
      },
      "outputs": [],
      "source": [
        "# code here"
      ]
    },
    {
      "cell_type": "code",
      "execution_count": null,
      "metadata": {
        "id": "fHt-hfITKVo0",
        "outputId": "fc3087d1-d71f-4036-de9d-9cc01cc1cfc0"
      },
      "outputs": [
        {
          "data": {
            "text/plain": [
              "array([20, 23, 26, 29])"
            ]
          },
          "execution_count": 223,
          "metadata": {},
          "output_type": "execute_result"
        }
      ],
      "source": [
        ""
      ]
    },
    {
      "cell_type": "code",
      "execution_count": null,
      "metadata": {
        "id": "Nk1L7Zr1KVo0"
      },
      "outputs": [],
      "source": [
        "#iki boyutlu slice islemleri"
      ]
    },
    {
      "cell_type": "code",
      "execution_count": null,
      "metadata": {
        "id": "Ojav7QdBKVo1"
      },
      "outputs": [],
      "source": [
        "m = np.random.randint(10, size = (5,5))"
      ]
    },
    {
      "cell_type": "code",
      "execution_count": null,
      "metadata": {
        "id": "TZCq3hecKVo1",
        "outputId": "941ca8a8-0a79-4f8e-a5cc-d617ecddd4e6"
      },
      "outputs": [
        {
          "data": {
            "text/plain": [
              "array([[2, 1, 8, 3, 8],\n",
              "       [4, 3, 2, 3, 5],\n",
              "       [5, 9, 3, 1, 3],\n",
              "       [3, 1, 6, 9, 4],\n",
              "       [6, 0, 9, 9, 0]])"
            ]
          },
          "execution_count": 96,
          "metadata": {},
          "output_type": "execute_result"
        }
      ],
      "source": [
        "m"
      ]
    },
    {
      "cell_type": "code",
      "execution_count": null,
      "metadata": {
        "id": "c5szi1DCKVo1"
      },
      "outputs": [],
      "source": [
        "# code here"
      ]
    },
    {
      "cell_type": "code",
      "execution_count": null,
      "metadata": {
        "id": "vwSTkKgsKVo1",
        "outputId": "2f82103f-6d8a-4d0d-afe0-fb23d466a1f9"
      },
      "outputs": [
        {
          "data": {
            "text/plain": [
              "array([2, 4, 5, 3, 6])"
            ]
          },
          "execution_count": 97,
          "metadata": {},
          "output_type": "execute_result"
        }
      ],
      "source": [
        ""
      ]
    },
    {
      "cell_type": "code",
      "execution_count": null,
      "metadata": {
        "id": "osWmrcbPKVo2"
      },
      "outputs": [],
      "source": [
        "# code here"
      ]
    },
    {
      "cell_type": "code",
      "execution_count": null,
      "metadata": {
        "id": "3YvvTR84KVo2",
        "outputId": "9c20735d-c71e-4116-b831-9a30939732fc"
      },
      "outputs": [
        {
          "data": {
            "text/plain": [
              "array([1, 3, 9, 1, 0])"
            ]
          },
          "execution_count": 98,
          "metadata": {},
          "output_type": "execute_result"
        }
      ],
      "source": [
        ""
      ]
    },
    {
      "cell_type": "code",
      "execution_count": null,
      "metadata": {
        "id": "kEtvZg3SKVo2"
      },
      "outputs": [],
      "source": [
        "# code here"
      ]
    },
    {
      "cell_type": "code",
      "execution_count": null,
      "metadata": {
        "id": "cjn5du7hKVo3",
        "outputId": "c3b213cc-9ec1-4d64-8745-b85bca7da066"
      },
      "outputs": [
        {
          "data": {
            "text/plain": [
              "array([8, 5, 3, 4, 0])"
            ]
          },
          "execution_count": 99,
          "metadata": {},
          "output_type": "execute_result"
        }
      ],
      "source": [
        ""
      ]
    },
    {
      "cell_type": "code",
      "execution_count": null,
      "metadata": {
        "id": "A_Q07KeNKVo3",
        "outputId": "43a216cb-0be9-4acc-b9e8-cde3aded8261"
      },
      "outputs": [
        {
          "data": {
            "text/plain": [
              "array([[2, 1, 8, 3, 8],\n",
              "       [4, 3, 2, 3, 5],\n",
              "       [5, 9, 3, 1, 3],\n",
              "       [3, 1, 6, 9, 4],\n",
              "       [6, 0, 9, 9, 0]])"
            ]
          },
          "execution_count": 100,
          "metadata": {},
          "output_type": "execute_result"
        }
      ],
      "source": [
        "m"
      ]
    },
    {
      "cell_type": "code",
      "execution_count": null,
      "metadata": {
        "id": "K3NvbvqcKVo3"
      },
      "outputs": [],
      "source": [
        "# code here"
      ]
    },
    {
      "cell_type": "code",
      "execution_count": null,
      "metadata": {
        "id": "KcilYbJsKVo3",
        "outputId": "4dbd5c75-3bbe-4d66-fdfa-87cc5e655623"
      },
      "outputs": [
        {
          "data": {
            "text/plain": [
              "array([2, 1, 8, 3, 8])"
            ]
          },
          "execution_count": 101,
          "metadata": {},
          "output_type": "execute_result"
        }
      ],
      "source": [
        ""
      ]
    },
    {
      "cell_type": "code",
      "execution_count": null,
      "metadata": {
        "id": "G8RJc5rnKVo4"
      },
      "outputs": [],
      "source": [
        "# code here"
      ]
    },
    {
      "cell_type": "code",
      "execution_count": null,
      "metadata": {
        "id": "Bqf4hAStKVo4",
        "outputId": "b8d8f51d-2c8a-45a2-8eb7-c845d48834fc"
      },
      "outputs": [
        {
          "data": {
            "text/plain": [
              "array([2, 1, 8, 3, 8])"
            ]
          },
          "execution_count": 102,
          "metadata": {},
          "output_type": "execute_result"
        }
      ],
      "source": [
        ""
      ]
    },
    {
      "cell_type": "code",
      "execution_count": null,
      "metadata": {
        "id": "aqLSLic_KVo4"
      },
      "outputs": [],
      "source": [
        "# code here"
      ]
    },
    {
      "cell_type": "code",
      "execution_count": null,
      "metadata": {
        "id": "cUFg6rwcKVo4",
        "outputId": "cce45df3-7474-4bcd-8fd8-ef6bf7c4dde9"
      },
      "outputs": [
        {
          "data": {
            "text/plain": [
              "array([4, 3, 2, 3, 5])"
            ]
          },
          "execution_count": 104,
          "metadata": {},
          "output_type": "execute_result"
        }
      ],
      "source": [
        ""
      ]
    },
    {
      "cell_type": "code",
      "execution_count": null,
      "metadata": {
        "id": "cPJRmc1mKVo4"
      },
      "outputs": [],
      "source": [
        "# code here"
      ]
    },
    {
      "cell_type": "code",
      "execution_count": null,
      "metadata": {
        "id": "HSPEHbyPKVo5",
        "outputId": "8e8c9c4b-b003-4115-cb3a-6230d150da32"
      },
      "outputs": [
        {
          "data": {
            "text/plain": [
              "array([[2, 1, 8],\n",
              "       [4, 3, 2]])"
            ]
          },
          "execution_count": 105,
          "metadata": {},
          "output_type": "execute_result"
        }
      ],
      "source": [
        ""
      ]
    },
    {
      "cell_type": "code",
      "execution_count": null,
      "metadata": {
        "id": "JH9mjT_RKVo5"
      },
      "outputs": [],
      "source": [
        "# code here"
      ]
    },
    {
      "cell_type": "code",
      "execution_count": null,
      "metadata": {
        "id": "wxSR3fcyKVo5",
        "outputId": "218f32c8-f0c8-419f-bcf3-e2266af2ea46"
      },
      "outputs": [
        {
          "data": {
            "text/plain": [
              "array([[2, 1],\n",
              "       [4, 3],\n",
              "       [5, 9],\n",
              "       [3, 1],\n",
              "       [6, 0]])"
            ]
          },
          "execution_count": 106,
          "metadata": {},
          "output_type": "execute_result"
        }
      ],
      "source": [
        ""
      ]
    },
    {
      "cell_type": "code",
      "execution_count": null,
      "metadata": {
        "id": "R8VasjZJKVo5",
        "outputId": "b99bb3c4-ea9f-448c-d648-a871380bd08d"
      },
      "outputs": [
        {
          "data": {
            "text/plain": [
              "array([[2, 1, 8, 3, 8],\n",
              "       [4, 3, 2, 3, 5],\n",
              "       [5, 9, 3, 1, 3],\n",
              "       [3, 1, 6, 9, 4],\n",
              "       [6, 0, 9, 9, 0]])"
            ]
          },
          "execution_count": 107,
          "metadata": {},
          "output_type": "execute_result"
        }
      ],
      "source": [
        "m"
      ]
    },
    {
      "cell_type": "code",
      "execution_count": null,
      "metadata": {
        "id": "_xFfq7SMKVo5"
      },
      "outputs": [],
      "source": [
        "# code here"
      ]
    },
    {
      "cell_type": "code",
      "execution_count": null,
      "metadata": {
        "id": "TaInlou2KVo6",
        "outputId": "be35f11a-b9b2-49f0-c242-b8486ca29186"
      },
      "outputs": [
        {
          "data": {
            "text/plain": [
              "array([[4, 3],\n",
              "       [5, 9]])"
            ]
          },
          "execution_count": 108,
          "metadata": {},
          "output_type": "execute_result"
        }
      ],
      "source": [
        ""
      ]
    },
    {
      "cell_type": "markdown",
      "metadata": {
        "id": "MQh1-sYwKVo6"
      },
      "source": [
        "# Alt Küme Üzerinde İşlem Yapmak"
      ]
    },
    {
      "cell_type": "code",
      "execution_count": null,
      "metadata": {
        "id": "ihd4fpfeKVo6",
        "outputId": "843d925c-7f72-4622-e9c3-e46ecb6617ab"
      },
      "outputs": [
        {
          "data": {
            "text/plain": [
              "array([[3, 5, 0, 7, 2],\n",
              "       [8, 5, 4, 6, 1],\n",
              "       [9, 0, 5, 9, 5],\n",
              "       [7, 6, 6, 6, 3],\n",
              "       [4, 3, 8, 7, 6]])"
            ]
          },
          "execution_count": 109,
          "metadata": {},
          "output_type": "execute_result"
        }
      ],
      "source": [
        "import numpy as np\n",
        "a = np.random.randint(10, size = (5, 5))\n",
        "a"
      ]
    },
    {
      "cell_type": "code",
      "execution_count": null,
      "metadata": {
        "id": "M3ERnGQiKVo7"
      },
      "outputs": [],
      "source": [
        "# code here"
      ]
    },
    {
      "cell_type": "code",
      "execution_count": null,
      "metadata": {
        "id": "VFAjh7siKVo7",
        "outputId": "f2877324-2ca2-4385-c60a-fc4ed6dc8ff5"
      },
      "outputs": [
        {
          "data": {
            "text/plain": [
              "array([[3, 5],\n",
              "       [8, 5],\n",
              "       [9, 0]])"
            ]
          },
          "execution_count": 111,
          "metadata": {},
          "output_type": "execute_result"
        }
      ],
      "source": [
        ""
      ]
    },
    {
      "cell_type": "code",
      "execution_count": null,
      "metadata": {
        "id": "pcFfZr15KVo7"
      },
      "outputs": [],
      "source": [
        "# code here"
      ]
    },
    {
      "cell_type": "code",
      "execution_count": null,
      "metadata": {
        "id": "_R3DVMkLKVo7",
        "outputId": "5bbcaed1-f7b9-4f6d-e498-0055c05a393d"
      },
      "outputs": [
        {
          "data": {
            "text/plain": [
              "array([[99999,     5],\n",
              "       [    8,   888],\n",
              "       [    9,     0]])"
            ]
          },
          "execution_count": 113,
          "metadata": {},
          "output_type": "execute_result"
        }
      ],
      "source": [
        ""
      ]
    },
    {
      "cell_type": "code",
      "execution_count": null,
      "metadata": {
        "id": "6mrseB41KVo7",
        "outputId": "5b258307-f1f3-445f-f49c-be16a534d85d"
      },
      "outputs": [
        {
          "data": {
            "text/plain": [
              "array([[99999,     5,     0,     7,     2],\n",
              "       [    8,   888,     4,     6,     1],\n",
              "       [    9,     0,     5,     9,     5],\n",
              "       [    7,     6,     6,     6,     3],\n",
              "       [    4,     3,     8,     7,     6]])"
            ]
          },
          "execution_count": 114,
          "metadata": {},
          "output_type": "execute_result"
        }
      ],
      "source": [
        "a"
      ]
    },
    {
      "cell_type": "code",
      "execution_count": null,
      "metadata": {
        "id": "E1ipdEHjKVo8",
        "outputId": "e2d16b76-6f4b-4fa2-e322-aba1cfb02851"
      },
      "outputs": [
        {
          "data": {
            "text/plain": [
              "array([[8, 1, 4, 0, 2],\n",
              "       [4, 0, 3, 0, 6],\n",
              "       [4, 1, 4, 0, 3],\n",
              "       [1, 8, 0, 8, 9],\n",
              "       [6, 0, 1, 2, 4]])"
            ]
          },
          "execution_count": 3,
          "metadata": {},
          "output_type": "execute_result"
        }
      ],
      "source": [
        "m = np.random.randint(10, size = (5, 5))\n",
        "m"
      ]
    },
    {
      "cell_type": "code",
      "execution_count": null,
      "metadata": {
        "id": "ud73r6GQKVo8"
      },
      "outputs": [],
      "source": [
        "# code here"
      ]
    },
    {
      "cell_type": "code",
      "execution_count": null,
      "metadata": {
        "id": "oRvwKyM1KVo8",
        "outputId": "35f7e6e8-ac46-4849-ac99-0bb0b187af2f"
      },
      "outputs": [
        {
          "data": {
            "text/plain": [
              "array([[7, 0],\n",
              "       [7, 5],\n",
              "       [7, 4]])"
            ]
          },
          "execution_count": 116,
          "metadata": {},
          "output_type": "execute_result"
        }
      ],
      "source": [
        ""
      ]
    },
    {
      "cell_type": "code",
      "execution_count": null,
      "metadata": {
        "id": "YHttTb1aKVo8"
      },
      "outputs": [],
      "source": [
        "# code here"
      ]
    },
    {
      "cell_type": "code",
      "execution_count": null,
      "metadata": {
        "id": "3PQghfO9KVo9",
        "outputId": "79a8c14d-9af6-4107-d25a-234d3e60a272"
      },
      "outputs": [
        {
          "data": {
            "text/plain": [
              "array([[9999,    0],\n",
              "       [   9,    3],\n",
              "       [   5,    1]])"
            ]
          },
          "execution_count": 246,
          "metadata": {},
          "output_type": "execute_result"
        }
      ],
      "source": [
        ""
      ]
    },
    {
      "cell_type": "code",
      "execution_count": null,
      "metadata": {
        "id": "T-PCDIpDKVo9",
        "outputId": "c65e4a9b-be5c-45ba-8b0b-baa4ad52dcc6"
      },
      "outputs": [
        {
          "data": {
            "text/plain": [
              "array([[9, 0, 0, 8, 9],\n",
              "       [9, 3, 4, 1, 9],\n",
              "       [5, 1, 2, 1, 5],\n",
              "       [8, 2, 3, 8, 0],\n",
              "       [5, 7, 6, 3, 8]])"
            ]
          },
          "execution_count": 247,
          "metadata": {},
          "output_type": "execute_result"
        }
      ],
      "source": [
        "m"
      ]
    },
    {
      "cell_type": "markdown",
      "metadata": {
        "id": "4utwjXHIKVo9"
      },
      "source": [
        "# Fancy Index ile Elemanlara Erişmek"
      ]
    },
    {
      "cell_type": "code",
      "execution_count": null,
      "metadata": {
        "id": "euD2hGINKVo9",
        "outputId": "81df08f8-e08f-4b12-b19c-006debb85c97"
      },
      "outputs": [
        {
          "data": {
            "text/plain": [
              "array([ 0,  3,  6,  9, 12, 15, 18, 21, 24, 27])"
            ]
          },
          "execution_count": 2,
          "metadata": {},
          "output_type": "execute_result"
        }
      ],
      "source": [
        "import numpy as np\n",
        "v = np.arange(0, 30, 3)\n",
        "v"
      ]
    },
    {
      "cell_type": "code",
      "execution_count": null,
      "metadata": {
        "id": "66bVcs2tKVo9"
      },
      "outputs": [],
      "source": [
        "# code here"
      ]
    },
    {
      "cell_type": "code",
      "execution_count": null,
      "metadata": {
        "id": "4LOwmDHHKVo-",
        "outputId": "422da83f-64a5-4c95-a672-0b165a29d4b6"
      },
      "outputs": [
        {
          "data": {
            "text/plain": [
              "3"
            ]
          },
          "execution_count": 249,
          "metadata": {},
          "output_type": "execute_result"
        }
      ],
      "source": [
        ""
      ]
    },
    {
      "cell_type": "code",
      "execution_count": null,
      "metadata": {
        "id": "EqcqkndCKVo-"
      },
      "outputs": [],
      "source": [
        "# code here"
      ]
    },
    {
      "cell_type": "code",
      "execution_count": null,
      "metadata": {
        "id": "FFnJhDE1KVo-",
        "outputId": "628f993e-fed5-4ac2-feee-1fe921b7e646"
      },
      "outputs": [
        {
          "data": {
            "text/plain": [
              "9"
            ]
          },
          "execution_count": 250,
          "metadata": {},
          "output_type": "execute_result"
        }
      ],
      "source": [
        ""
      ]
    },
    {
      "cell_type": "code",
      "execution_count": null,
      "metadata": {
        "id": "P6D9XiOGKVo_"
      },
      "outputs": [],
      "source": [
        "# code here"
      ]
    },
    {
      "cell_type": "code",
      "execution_count": null,
      "metadata": {
        "id": "_8UuaCTsKVo_",
        "outputId": "fb3d3644-cb34-4a57-9f5e-c4ab1348d47e"
      },
      "outputs": [
        {
          "data": {
            "text/plain": [
              "15"
            ]
          },
          "execution_count": 251,
          "metadata": {},
          "output_type": "execute_result"
        }
      ],
      "source": [
        ""
      ]
    },
    {
      "cell_type": "code",
      "execution_count": null,
      "metadata": {
        "id": "d8PSlHeeKVo_"
      },
      "outputs": [],
      "source": [
        "# code here"
      ]
    },
    {
      "cell_type": "code",
      "execution_count": null,
      "metadata": {
        "id": "GBnlb5xpKVo_",
        "outputId": "246fc643-186a-437f-efbf-abd2cf8412d7"
      },
      "outputs": [
        {
          "data": {
            "text/plain": [
              "[3, 9, 15]"
            ]
          },
          "execution_count": 252,
          "metadata": {},
          "output_type": "execute_result"
        }
      ],
      "source": [
        ""
      ]
    },
    {
      "cell_type": "code",
      "execution_count": null,
      "metadata": {
        "id": "1HYRQHgmKVo_"
      },
      "outputs": [],
      "source": [
        "al_getir = [1,3,5]"
      ]
    },
    {
      "cell_type": "code",
      "execution_count": null,
      "metadata": {
        "id": "s3DWFoi6KVpA",
        "outputId": "1bd90435-c9ee-4129-cdf2-37566321b819"
      },
      "outputs": [
        {
          "data": {
            "text/plain": [
              "array([ 0,  3,  6,  9, 12, 15, 18, 21, 24, 27])"
            ]
          },
          "execution_count": 254,
          "metadata": {},
          "output_type": "execute_result"
        }
      ],
      "source": [
        "v"
      ]
    },
    {
      "cell_type": "code",
      "execution_count": null,
      "metadata": {
        "id": "OLxl70YUKVpA"
      },
      "outputs": [],
      "source": [
        "# code here"
      ]
    },
    {
      "cell_type": "code",
      "execution_count": null,
      "metadata": {
        "id": "hPlecSHKKVpA",
        "outputId": "a1050dd0-a360-4f56-c677-d4ee0e0b450f"
      },
      "outputs": [
        {
          "data": {
            "text/plain": [
              "array([ 3,  9, 15])"
            ]
          },
          "execution_count": 255,
          "metadata": {},
          "output_type": "execute_result"
        }
      ],
      "source": [
        ""
      ]
    },
    {
      "cell_type": "code",
      "execution_count": null,
      "metadata": {
        "id": "TRWaHH8mKVpA"
      },
      "outputs": [],
      "source": [
        "#iki boyutta fancy"
      ]
    },
    {
      "cell_type": "code",
      "execution_count": null,
      "metadata": {
        "id": "52R0lkhRKVpA"
      },
      "outputs": [],
      "source": [
        "m = np.arange(9).reshape((3,3))"
      ]
    },
    {
      "cell_type": "code",
      "execution_count": null,
      "metadata": {
        "id": "ECSgIRo7KVpB",
        "outputId": "a980aa7c-bbd0-4f2a-cb68-939b91f07f3e"
      },
      "outputs": [
        {
          "data": {
            "text/plain": [
              "array([[0, 1, 2],\n",
              "       [3, 4, 5],\n",
              "       [6, 7, 8]])"
            ]
          },
          "execution_count": 4,
          "metadata": {},
          "output_type": "execute_result"
        }
      ],
      "source": [
        "m"
      ]
    },
    {
      "cell_type": "code",
      "execution_count": null,
      "metadata": {
        "id": "p07cL43IKVpB"
      },
      "outputs": [],
      "source": [
        "satir = np.array([0,1])\n",
        "sutun = np.array([1,2])"
      ]
    },
    {
      "cell_type": "code",
      "execution_count": null,
      "metadata": {
        "id": "Jtsy6Nc6KVpB",
        "outputId": "9cf32a76-1007-4db4-a959-d5666bb1abb6"
      },
      "outputs": [
        {
          "data": {
            "text/plain": [
              "array([1, 5])"
            ]
          },
          "execution_count": 6,
          "metadata": {},
          "output_type": "execute_result"
        }
      ],
      "source": [
        "m[satir, sutun]"
      ]
    },
    {
      "cell_type": "code",
      "execution_count": null,
      "metadata": {
        "id": "S_l6Qb4wKVpB"
      },
      "outputs": [],
      "source": [
        "#basit index ile fancy index"
      ]
    },
    {
      "cell_type": "code",
      "execution_count": null,
      "metadata": {
        "id": "7OsZlCTLKVpC",
        "outputId": "006186bc-a355-4212-f9c2-4680e2867eb3"
      },
      "outputs": [
        {
          "data": {
            "text/plain": [
              "array([[0, 1, 2],\n",
              "       [3, 4, 5],\n",
              "       [6, 7, 8]])"
            ]
          },
          "execution_count": 7,
          "metadata": {},
          "output_type": "execute_result"
        }
      ],
      "source": [
        "m"
      ]
    },
    {
      "cell_type": "code",
      "execution_count": null,
      "metadata": {
        "id": "mlYHLCbQKVpC",
        "outputId": "f7a1461b-6f65-4900-8030-0db0890520b7"
      },
      "outputs": [
        {
          "data": {
            "text/plain": [
              "array([1, 2])"
            ]
          },
          "execution_count": 8,
          "metadata": {},
          "output_type": "execute_result"
        }
      ],
      "source": [
        "m[0, [1,2]]"
      ]
    },
    {
      "cell_type": "code",
      "execution_count": null,
      "metadata": {
        "id": "K3QuSNq6KVpC"
      },
      "outputs": [],
      "source": [
        "#slice ile fancy"
      ]
    },
    {
      "cell_type": "code",
      "execution_count": null,
      "metadata": {
        "id": "chIze4aQKVpC",
        "outputId": "42d48e19-86f7-476c-81a4-684e0689aecb"
      },
      "outputs": [
        {
          "data": {
            "text/plain": [
              "array([[1, 2],\n",
              "       [4, 5],\n",
              "       [7, 8]])"
            ]
          },
          "execution_count": 265,
          "metadata": {},
          "output_type": "execute_result"
        }
      ],
      "source": [
        "m[0:, [1,2]]"
      ]
    },
    {
      "cell_type": "markdown",
      "metadata": {
        "id": "IjVHmoJ1KVpC"
      },
      "source": [
        "# Koşullu Eleman İşlemleri"
      ]
    },
    {
      "cell_type": "code",
      "execution_count": null,
      "metadata": {
        "id": "nLeKja71KVpD"
      },
      "outputs": [],
      "source": [
        "import numpy as np\n",
        "v = np.array([1, 2, 3, 4, 5])"
      ]
    },
    {
      "cell_type": "code",
      "execution_count": null,
      "metadata": {
        "id": "_52sv-ixKVpD",
        "outputId": "183b1ee3-bbeb-440a-b5de-067c291c6c38"
      },
      "outputs": [
        {
          "data": {
            "text/plain": [
              "array([ True,  True, False, False, False])"
            ]
          },
          "execution_count": 267,
          "metadata": {},
          "output_type": "execute_result"
        }
      ],
      "source": [
        "v < 3"
      ]
    },
    {
      "cell_type": "code",
      "execution_count": null,
      "metadata": {
        "id": "1CXqyLe8KVpD",
        "outputId": "b1d68a07-91ef-447d-fcda-649fc84cfb52"
      },
      "outputs": [
        {
          "data": {
            "text/plain": [
              "array([1, 2])"
            ]
          },
          "execution_count": 268,
          "metadata": {},
          "output_type": "execute_result"
        }
      ],
      "source": [
        "v[v < 3]"
      ]
    },
    {
      "cell_type": "code",
      "execution_count": null,
      "metadata": {
        "id": "331nTx5PKVpD"
      },
      "outputs": [],
      "source": [
        "# code here"
      ]
    },
    {
      "cell_type": "code",
      "execution_count": null,
      "metadata": {
        "id": "DWvMYerTKVpD"
      },
      "outputs": [],
      "source": [
        ""
      ]
    },
    {
      "cell_type": "code",
      "execution_count": null,
      "metadata": {
        "id": "DV_GxhTNKVpE",
        "outputId": "5d1b6d43-ad40-4d6f-e2dc-f12da3143424"
      },
      "outputs": [
        {
          "data": {
            "text/plain": [
              "array([4, 5])"
            ]
          },
          "execution_count": 269,
          "metadata": {},
          "output_type": "execute_result"
        }
      ],
      "source": [
        "v[v > 3]"
      ]
    },
    {
      "cell_type": "code",
      "execution_count": null,
      "metadata": {
        "id": "neVO-qF6KVpE"
      },
      "outputs": [],
      "source": [
        "# code here"
      ]
    },
    {
      "cell_type": "code",
      "execution_count": null,
      "metadata": {
        "id": "x0MXKWSvKVpE",
        "outputId": "4f7981b4-c0b8-41d3-9933-40af92058954"
      },
      "outputs": [
        {
          "data": {
            "text/plain": [
              "array([3, 4, 5])"
            ]
          },
          "execution_count": 270,
          "metadata": {},
          "output_type": "execute_result"
        }
      ],
      "source": [
        ""
      ]
    },
    {
      "cell_type": "code",
      "execution_count": null,
      "metadata": {
        "id": "AA_aZMZaKVpE"
      },
      "outputs": [],
      "source": [
        "# code here"
      ]
    },
    {
      "cell_type": "code",
      "execution_count": null,
      "metadata": {
        "id": "hEizKNV1KVpF",
        "outputId": "b544c0c9-9738-447a-d14a-e2547798f2c1"
      },
      "outputs": [
        {
          "data": {
            "text/plain": [
              "array([1, 2, 3])"
            ]
          },
          "execution_count": 271,
          "metadata": {},
          "output_type": "execute_result"
        }
      ],
      "source": [
        ""
      ]
    },
    {
      "cell_type": "code",
      "execution_count": null,
      "metadata": {
        "id": "frsIx2XRKVpF"
      },
      "outputs": [],
      "source": [
        "# code here"
      ]
    },
    {
      "cell_type": "code",
      "execution_count": null,
      "metadata": {
        "id": "dcKdpZYBKVpF",
        "outputId": "2960c02c-1229-4cd5-a783-a05086bd12f3"
      },
      "outputs": [
        {
          "data": {
            "text/plain": [
              "array([3])"
            ]
          },
          "execution_count": 272,
          "metadata": {},
          "output_type": "execute_result"
        }
      ],
      "source": [
        ""
      ]
    },
    {
      "cell_type": "code",
      "execution_count": null,
      "metadata": {
        "id": "8W2VtuHrKVpF"
      },
      "outputs": [],
      "source": [
        "# code here"
      ]
    },
    {
      "cell_type": "code",
      "execution_count": null,
      "metadata": {
        "id": "9SgVu9STKVpF",
        "outputId": "ef53d0b9-58f3-4b95-b474-b232ec599f72"
      },
      "outputs": [
        {
          "data": {
            "text/plain": [
              "array([1, 2, 4, 5])"
            ]
          },
          "execution_count": 273,
          "metadata": {},
          "output_type": "execute_result"
        }
      ],
      "source": [
        ""
      ]
    },
    {
      "cell_type": "code",
      "execution_count": null,
      "metadata": {
        "id": "PAqprjHzKVpG",
        "outputId": "bd65cd26-cb4f-4571-b74b-8cfb15281033"
      },
      "outputs": [
        {
          "data": {
            "text/plain": [
              "array([1, 2, 3, 4, 5])"
            ]
          },
          "execution_count": 274,
          "metadata": {},
          "output_type": "execute_result"
        }
      ],
      "source": [
        "v"
      ]
    },
    {
      "cell_type": "code",
      "execution_count": null,
      "metadata": {
        "id": "JR__XlPXKVpG"
      },
      "outputs": [],
      "source": [
        "# code here"
      ]
    },
    {
      "cell_type": "code",
      "execution_count": null,
      "metadata": {
        "id": "FPb1zJ1DKVpG",
        "outputId": "f7509c50-d544-4dda-9026-a4b155ff891f"
      },
      "outputs": [
        {
          "data": {
            "text/plain": [
              "array([ 2,  4,  6,  8, 10])"
            ]
          },
          "execution_count": 275,
          "metadata": {},
          "output_type": "execute_result"
        }
      ],
      "source": [
        ""
      ]
    },
    {
      "cell_type": "code",
      "execution_count": null,
      "metadata": {
        "id": "8s5uLWziKVpG"
      },
      "outputs": [],
      "source": [
        "# code here"
      ]
    },
    {
      "cell_type": "code",
      "execution_count": null,
      "metadata": {
        "id": "BNWxjNoLKVpG",
        "outputId": "0703d83f-2ac9-4446-ba5a-56d0ae3d3458"
      },
      "outputs": [
        {
          "data": {
            "text/plain": [
              "array([0.2, 0.4, 0.6, 0.8, 1. ])"
            ]
          },
          "execution_count": 276,
          "metadata": {},
          "output_type": "execute_result"
        }
      ],
      "source": [
        ""
      ]
    },
    {
      "cell_type": "code",
      "execution_count": null,
      "metadata": {
        "id": "CT3UidvzKVpH"
      },
      "outputs": [],
      "source": [
        "# code here"
      ]
    },
    {
      "cell_type": "code",
      "execution_count": null,
      "metadata": {
        "id": "nNy09KKjKVpH",
        "outputId": "4987de1e-8e93-4ba1-f30a-cf3ffa5b3dd6"
      },
      "outputs": [
        {
          "data": {
            "text/plain": [
              "array([ 1,  4,  9, 16, 25], dtype=int32)"
            ]
          },
          "execution_count": 278,
          "metadata": {},
          "output_type": "execute_result"
        }
      ],
      "source": [
        ""
      ]
    },
    {
      "cell_type": "markdown",
      "metadata": {
        "id": "ypUHk22xKVpH"
      },
      "source": [
        "# Matematiksel İşlemler\n",
        "\n",
        "Bu bölüm bilgi ve tekrar maksatlı konulmuştur."
      ]
    },
    {
      "cell_type": "code",
      "execution_count": null,
      "metadata": {
        "id": "1DHXEg5dKVpH"
      },
      "outputs": [],
      "source": [
        "import numpy as np\n",
        "v = np.array([1, 2, 3, 4, 5])"
      ]
    },
    {
      "cell_type": "code",
      "execution_count": null,
      "metadata": {
        "id": "ITTzLyfVKVpH",
        "outputId": "5eaf7e33-c490-42e7-d1e2-6e6f15fcdee1"
      },
      "outputs": [
        {
          "data": {
            "text/plain": [
              "array([0, 1, 2, 3, 4])"
            ]
          },
          "execution_count": 280,
          "metadata": {},
          "output_type": "execute_result"
        }
      ],
      "source": [
        "v - 1"
      ]
    },
    {
      "cell_type": "code",
      "execution_count": null,
      "metadata": {
        "id": "76FCRwBLKVpI",
        "outputId": "eea43658-decb-43e7-cb1f-bfcaa6c313fb"
      },
      "outputs": [
        {
          "data": {
            "text/plain": [
              "array([ 5, 10, 15, 20, 25])"
            ]
          },
          "execution_count": 281,
          "metadata": {},
          "output_type": "execute_result"
        }
      ],
      "source": [
        "v * 5"
      ]
    },
    {
      "cell_type": "code",
      "execution_count": null,
      "metadata": {
        "id": "Ss4u_eWzKVpI",
        "outputId": "fc6b803b-35ac-41ef-9988-c406a476d733"
      },
      "outputs": [
        {
          "data": {
            "text/plain": [
              "array([0.2, 0.4, 0.6, 0.8, 1. ])"
            ]
          },
          "execution_count": 282,
          "metadata": {},
          "output_type": "execute_result"
        }
      ],
      "source": [
        "v / 5"
      ]
    },
    {
      "cell_type": "code",
      "execution_count": null,
      "metadata": {
        "id": "o2GmQELkKVpI"
      },
      "outputs": [],
      "source": [
        "#ufunc"
      ]
    },
    {
      "cell_type": "code",
      "execution_count": null,
      "metadata": {
        "id": "rnQ1ET7bKVpI",
        "outputId": "99076cd5-8370-486a-d507-fe91d72d75d3"
      },
      "outputs": [
        {
          "data": {
            "text/plain": [
              "array([0, 1, 2, 3, 4])"
            ]
          },
          "execution_count": 285,
          "metadata": {},
          "output_type": "execute_result"
        }
      ],
      "source": [
        "np.subtract(v, 1)"
      ]
    },
    {
      "cell_type": "code",
      "execution_count": null,
      "metadata": {
        "id": "P23OE6SiKVpJ",
        "outputId": "85f90714-e7fd-48cb-c0f1-099ecd419fe1"
      },
      "outputs": [
        {
          "data": {
            "text/plain": [
              "array([2, 3, 4, 5, 6])"
            ]
          },
          "execution_count": 286,
          "metadata": {},
          "output_type": "execute_result"
        }
      ],
      "source": [
        "np.add(v, 1)"
      ]
    },
    {
      "cell_type": "code",
      "execution_count": null,
      "metadata": {
        "id": "TK0jm23TKVpJ",
        "outputId": "5f1432b2-4ab6-47d3-839a-7b3a9aa3c034"
      },
      "outputs": [
        {
          "data": {
            "text/plain": [
              "array([ 4,  8, 12, 16, 20])"
            ]
          },
          "execution_count": 287,
          "metadata": {},
          "output_type": "execute_result"
        }
      ],
      "source": [
        "np.multiply(v,4)"
      ]
    },
    {
      "cell_type": "code",
      "execution_count": null,
      "metadata": {
        "id": "xt2Fz0rCKVpJ",
        "outputId": "b37a5af3-de98-48d0-f943-90ad3451408d"
      },
      "outputs": [
        {
          "data": {
            "text/plain": [
              "array([0.33333333, 0.66666667, 1.        , 1.33333333, 1.66666667])"
            ]
          },
          "execution_count": 288,
          "metadata": {},
          "output_type": "execute_result"
        }
      ],
      "source": [
        "np.divide(v, 3)"
      ]
    },
    {
      "cell_type": "code",
      "execution_count": null,
      "metadata": {
        "id": "Y1UxuEQrKVpJ",
        "outputId": "98e4637e-e7e9-4dd0-d703-b0511f81069b"
      },
      "outputs": [
        {
          "data": {
            "text/plain": [
              "array([ 1,  4,  9, 16, 25], dtype=int32)"
            ]
          },
          "execution_count": 289,
          "metadata": {},
          "output_type": "execute_result"
        }
      ],
      "source": [
        "v**2"
      ]
    },
    {
      "cell_type": "code",
      "execution_count": null,
      "metadata": {
        "id": "YcmBgaKnKVpJ",
        "outputId": "ac35f8f4-16da-4ec0-a29c-6b995311f44c"
      },
      "outputs": [
        {
          "data": {
            "text/plain": [
              "array([  1,   8,  27,  64, 125], dtype=int32)"
            ]
          },
          "execution_count": 290,
          "metadata": {},
          "output_type": "execute_result"
        }
      ],
      "source": [
        "v**3"
      ]
    },
    {
      "cell_type": "code",
      "execution_count": null,
      "metadata": {
        "id": "IJMy52tlKVpK",
        "outputId": "c94bb04a-8cca-48b0-a80b-e7097e4360d3"
      },
      "outputs": [
        {
          "data": {
            "text/plain": [
              "array([  1,   8,  27,  64, 125], dtype=int32)"
            ]
          },
          "execution_count": 291,
          "metadata": {},
          "output_type": "execute_result"
        }
      ],
      "source": [
        "np.power(v, 3)"
      ]
    },
    {
      "cell_type": "code",
      "execution_count": null,
      "metadata": {
        "id": "yyEj53NVKVpK",
        "outputId": "f189fb7f-011c-4a9f-df7d-d98ca2e49f59"
      },
      "outputs": [
        {
          "data": {
            "text/plain": [
              "array([1, 0, 1, 0, 1], dtype=int32)"
            ]
          },
          "execution_count": 292,
          "metadata": {},
          "output_type": "execute_result"
        }
      ],
      "source": [
        "v % 2"
      ]
    },
    {
      "cell_type": "code",
      "execution_count": null,
      "metadata": {
        "id": "-g_lbPFPKVpK",
        "outputId": "ade65c92-6eed-4284-ef47-27cb0bead445"
      },
      "outputs": [
        {
          "data": {
            "text/plain": [
              "array([1, 0, 1, 0, 1], dtype=int32)"
            ]
          },
          "execution_count": 293,
          "metadata": {},
          "output_type": "execute_result"
        }
      ],
      "source": [
        "np.mod(v, 2)"
      ]
    },
    {
      "cell_type": "code",
      "execution_count": null,
      "metadata": {
        "id": "t_0cZEE7KVpK",
        "outputId": "97ac1582-b323-40d6-bba9-9591ca00654a"
      },
      "outputs": [
        {
          "data": {
            "text/plain": [
              "array([3])"
            ]
          },
          "execution_count": 294,
          "metadata": {},
          "output_type": "execute_result"
        }
      ],
      "source": [
        "np.absolute(np.array([-3]))"
      ]
    },
    {
      "cell_type": "code",
      "execution_count": null,
      "metadata": {
        "id": "KHz5i5ltKVpL",
        "outputId": "2811850e-81ce-4aaf-a273-089a596f4708"
      },
      "outputs": [
        {
          "data": {
            "text/plain": [
              "0.9589157234143065"
            ]
          },
          "execution_count": 295,
          "metadata": {},
          "output_type": "execute_result"
        }
      ],
      "source": [
        "np.sin(360)"
      ]
    },
    {
      "cell_type": "code",
      "execution_count": null,
      "metadata": {
        "id": "Vww5dfQLKVpL",
        "outputId": "c3cc1906-6170-4d80-e731-a13e9477df81"
      },
      "outputs": [
        {
          "data": {
            "text/plain": [
              "-0.5984600690578581"
            ]
          },
          "execution_count": 296,
          "metadata": {},
          "output_type": "execute_result"
        }
      ],
      "source": [
        "np.cos(180)"
      ]
    },
    {
      "cell_type": "code",
      "execution_count": null,
      "metadata": {
        "id": "bYOxdM9rKVpL"
      },
      "outputs": [],
      "source": [
        "v = np.array([1,2,3])"
      ]
    },
    {
      "cell_type": "code",
      "execution_count": null,
      "metadata": {
        "id": "u3FUvJGTKVpL",
        "outputId": "bcde62c9-ef86-4c7b-b564-6664d372328f"
      },
      "outputs": [
        {
          "data": {
            "text/plain": [
              "array([0.        , 0.69314718, 1.09861229])"
            ]
          },
          "execution_count": 298,
          "metadata": {},
          "output_type": "execute_result"
        }
      ],
      "source": [
        "np.log(v)"
      ]
    },
    {
      "cell_type": "code",
      "execution_count": null,
      "metadata": {
        "id": "Smye1dcMKVpM",
        "outputId": "1d254718-684b-4338-c1d7-e0f3b8fde77e"
      },
      "outputs": [
        {
          "data": {
            "text/plain": [
              "array([0.       , 1.       , 1.5849625])"
            ]
          },
          "execution_count": 299,
          "metadata": {},
          "output_type": "execute_result"
        }
      ],
      "source": [
        "np.log2(v)"
      ]
    },
    {
      "cell_type": "code",
      "execution_count": null,
      "metadata": {
        "id": "1z4DsDcvKVpM",
        "outputId": "ebafa38a-3ad1-41da-cb52-1c13352710f8"
      },
      "outputs": [
        {
          "data": {
            "text/plain": [
              "array([0.        , 0.30103   , 0.47712125])"
            ]
          },
          "execution_count": 300,
          "metadata": {},
          "output_type": "execute_result"
        }
      ],
      "source": [
        "np.log10(v)"
      ]
    },
    {
      "cell_type": "code",
      "execution_count": null,
      "metadata": {
        "id": "KKukSy6KKVpM"
      },
      "outputs": [],
      "source": [
        "?np"
      ]
    },
    {
      "cell_type": "markdown",
      "metadata": {
        "id": "58IuLp4dKVpM"
      },
      "source": [
        "# İstatistiksel Hesaplamalar"
      ]
    },
    {
      "cell_type": "code",
      "execution_count": null,
      "metadata": {
        "id": "72B4NiuUKVpM",
        "outputId": "c032011a-792c-435c-ba54-af271c6a6ea1"
      },
      "outputs": [
        {
          "data": {
            "text/plain": [
              "array([1, 2, 3, 4, 5])"
            ]
          },
          "execution_count": 11,
          "metadata": {},
          "output_type": "execute_result"
        }
      ],
      "source": [
        "v"
      ]
    },
    {
      "cell_type": "code",
      "execution_count": null,
      "metadata": {
        "id": "3gSQRtBLKVpN",
        "outputId": "40f9fe7d-81cb-4faa-c732-608a92a82f53"
      },
      "outputs": [
        {
          "data": {
            "text/plain": [
              "2.0"
            ]
          },
          "execution_count": 304,
          "metadata": {},
          "output_type": "execute_result"
        }
      ],
      "source": [
        "np.mean(v)"
      ]
    },
    {
      "cell_type": "code",
      "execution_count": null,
      "metadata": {
        "id": "4l_ZPMwkKVpN",
        "outputId": "12bff3e4-1215-4371-f47d-54f118b8444a"
      },
      "outputs": [
        {
          "data": {
            "text/plain": [
              "6"
            ]
          },
          "execution_count": 305,
          "metadata": {},
          "output_type": "execute_result"
        }
      ],
      "source": [
        "v.sum()"
      ]
    },
    {
      "cell_type": "code",
      "execution_count": null,
      "metadata": {
        "id": "JZ3QDCQxKVpN",
        "outputId": "a581156f-233f-43ef-eeac-a41e9bd412f3"
      },
      "outputs": [
        {
          "data": {
            "text/plain": [
              "1"
            ]
          },
          "execution_count": 306,
          "metadata": {},
          "output_type": "execute_result"
        }
      ],
      "source": [
        "v.min()"
      ]
    },
    {
      "cell_type": "markdown",
      "metadata": {
        "id": "oJ67IhUmKVpN"
      },
      "source": [
        "* np.mean(arr,axis=0) | Returns mean along specific axis\n",
        "\n",
        "* arr.sum() | Returns sum of arr\n",
        "\n",
        "* arr.min() | Returns minimum value of arr\n",
        "\n",
        "* arr.max(axis=0) | Returns maximum value of specific axis\n",
        "\n",
        "* np.var(arr) | Returns the variance of array\n",
        "\n",
        "* np.std(arr,axis=1) | Returns the standard deviation of specific axis\n",
        "\n",
        "* arr.corrcoef() | Returns correlation coefficient of array"
      ]
    },
    {
      "cell_type": "markdown",
      "metadata": {
        "id": "7REDluYFKVpO"
      },
      "source": [
        "# NumPy ile İki Bilinmeyenli Denklem Çözümü"
      ]
    },
    {
      "cell_type": "code",
      "execution_count": null,
      "metadata": {
        "id": "4oxk1Mo-KVpO"
      },
      "outputs": [],
      "source": [
        "import numpy as np"
      ]
    },
    {
      "cell_type": "markdown",
      "metadata": {
        "id": "vXPYpFCBKVpO"
      },
      "source": [
        "**5 * x0 + x1 = 12  \n",
        "x0 + 3 * x1 = 10**"
      ]
    },
    {
      "cell_type": "code",
      "execution_count": null,
      "metadata": {
        "id": "vHSVnIx8KVpO"
      },
      "outputs": [],
      "source": [
        "a = np.array([[5,1], [1,3]])\n",
        "b = np.array([12,10])"
      ]
    },
    {
      "cell_type": "code",
      "execution_count": null,
      "metadata": {
        "id": "BH3sYxKvKVpO",
        "outputId": "48bb96aa-2a8e-4497-dcac-cccd90e0a4fe"
      },
      "outputs": [
        {
          "data": {
            "text/plain": [
              "array([[5, 1],\n",
              "       [1, 3]])"
            ]
          },
          "execution_count": 309,
          "metadata": {},
          "output_type": "execute_result"
        }
      ],
      "source": [
        "a"
      ]
    },
    {
      "cell_type": "code",
      "execution_count": null,
      "metadata": {
        "id": "tnoIjCxZKVpP",
        "outputId": "bdcaad3a-f39b-4d3f-b455-8b1c34b5e2f5"
      },
      "outputs": [
        {
          "data": {
            "text/plain": [
              "array([12, 10])"
            ]
          },
          "execution_count": 310,
          "metadata": {},
          "output_type": "execute_result"
        }
      ],
      "source": [
        "b"
      ]
    },
    {
      "cell_type": "code",
      "execution_count": null,
      "metadata": {
        "id": "2ymaTH-rKVpP",
        "outputId": "67b33f18-a636-4031-fe6d-a58172e0edf7"
      },
      "outputs": [
        {
          "data": {
            "text/plain": [
              "array([1.85714286, 2.71428571])"
            ]
          },
          "execution_count": 311,
          "metadata": {},
          "output_type": "execute_result"
        }
      ],
      "source": [
        "x = np.linalg.solve(a, b)\n",
        "x"
      ]
    },
    {
      "cell_type": "code",
      "execution_count": null,
      "metadata": {
        "id": "ptY38P_tKVpP"
      },
      "outputs": [],
      "source": [
        ""
      ]
    }
  ],
  "metadata": {
    "kernelspec": {
      "display_name": "Python 3 (ipykernel)",
      "language": "python",
      "name": "python3"
    },
    "language_info": {
      "codemirror_mode": {
        "name": "ipython",
        "version": 3
      },
      "file_extension": ".py",
      "mimetype": "text/x-python",
      "name": "python",
      "nbconvert_exporter": "python",
      "pygments_lexer": "ipython3",
      "version": "3.8.12"
    },
    "colab": {
      "name": "06_Self_Study_NumPy_Exercise_Student.ipynb",
      "provenance": [],
      "collapsed_sections": [
        "eFBl9r_HKVoP",
        "iVykieZzKVoV",
        "otSz9ep6KVoZ",
        "L8m_V8iPKVoc",
        "4cqDhVF-KVom",
        "JxdhFf_JKVop",
        "53YwJpkEKVov",
        "MQh1-sYwKVo6",
        "4utwjXHIKVo9",
        "IjVHmoJ1KVpC",
        "ypUHk22xKVpH",
        "58IuLp4dKVpM",
        "7REDluYFKVpO"
      ],
      "include_colab_link": true
    }
  },
  "nbformat": 4,
  "nbformat_minor": 0
}