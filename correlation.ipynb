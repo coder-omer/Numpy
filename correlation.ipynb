{
  "nbformat": 4,
  "nbformat_minor": 0,
  "metadata": {
    "colab": {
      "name": "correlation.ipynb",
      "provenance": [],
      "authorship_tag": "ABX9TyN9qad2o8+uryBYmuDg9h7e",
      "include_colab_link": true
    },
    "kernelspec": {
      "name": "python3",
      "display_name": "Python 3"
    },
    "language_info": {
      "name": "python"
    }
  },
  "cells": [
    {
      "cell_type": "markdown",
      "metadata": {
        "id": "view-in-github",
        "colab_type": "text"
      },
      "source": [
        "<a href=\"https://colab.research.google.com/github/coder-omer/Numpy/blob/main/correlation.ipynb\" target=\"_parent\"><img src=\"https://colab.research.google.com/assets/colab-badge.svg\" alt=\"Open In Colab\"/></a>"
      ]
    },
    {
      "cell_type": "code",
      "execution_count": null,
      "metadata": {
        "colab": {
          "base_uri": "https://localhost:8080/"
        },
        "id": "Fs-6pRoEyZX6",
        "outputId": "3713b36f-9a3f-4823-df00-f1f0c03f2246"
      },
      "outputs": [
        {
          "output_type": "stream",
          "name": "stdout",
          "text": [
            "covariance:  [[102.56666667  24.        ]\n",
            " [ 24.           6.8       ]]\n",
            "correlation:  [[1.         0.90876934]\n",
            " [0.90876934 1.        ]]\n"
          ]
        }
      ],
      "source": [
        "import numpy as np\n",
        "\n",
        "temp=[93,84,82,78,98,70]\n",
        "\n",
        "number_of_people=[13,10, 11, 8, 15, 9]\n",
        "\n",
        "print(\"covariance: \", np.cov(temp, number_of_people))\n",
        "\n",
        "print(\"correlation: \", np.corrcoef(temp, number_of_people))"
      ]
    }
  ]
}